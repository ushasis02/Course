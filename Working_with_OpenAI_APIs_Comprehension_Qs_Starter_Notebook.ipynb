{
  "nbformat": 4,
  "nbformat_minor": 0,
  "metadata": {
    "colab": {
      "provenance": [],
      "include_colab_link": true
    },
    "kernelspec": {
      "name": "python3",
      "display_name": "Python 3"
    },
    "language_info": {
      "name": "python"
    }
  },
  "cells": [
    {
      "cell_type": "markdown",
      "metadata": {
        "id": "view-in-github",
        "colab_type": "text"
      },
      "source": [
        "<a href=\"https://colab.research.google.com/github/ushasis02/Course/blob/master/Working_with_OpenAI_APIs_Comprehension_Qs_Starter_Notebook.ipynb\" target=\"_parent\"><img src=\"https://colab.research.google.com/assets/colab-badge.svg\" alt=\"Open In Colab\"/></a>"
      ]
    },
    {
      "cell_type": "markdown",
      "source": [
        "This notebook contains the starter codes for the comprehension-type questions for the sesion '**Working with OpenAI APIs**'.\n",
        "\n",
        "<br>\n",
        "\n",
        "\n",
        "**INSTRUCTIONS:**\n",
        "1. DO NOT modify the cells below the text highlighted in <font color='RED'>RED TEXT</font> or titled 'DO NOT MODIFY'. These are the essential for running the subsequent cells and completing your codes. <br>\n",
        "\n",
        "2. You will need to run these cells in the order present in the notebook to execute your code successfully.\n",
        "\n",
        "3. You need to update the code in the cell below the text marked by <font color='green'>GREEN TEXT</font>\n",
        "\n",
        "4. Make sure you upload the text file containing the API key in the following text file <b>OPENAI_API_Key.txt</b>\n"
      ],
      "metadata": {
        "id": "mEUFnsJzBtlt"
      }
    },
    {
      "cell_type": "markdown",
      "source": [
        "Click on the Run button as shown in the image to run the code cells marked with DO NOT MODIFY"
      ],
      "metadata": {
        "id": "o9gK044iFfNb"
      }
    },
    {
      "cell_type": "markdown",
      "source": [
        "![image.png](data:image/png;base64,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)"
      ],
      "metadata": {
        "id": "53i3rvCBFqur"
      }
    },
    {
      "cell_type": "markdown",
      "source": [
        "# <font color='RED' >IMPORT THE LIBRARIES</font>\n",
        "---\n",
        "\n",
        "\n",
        "\n"
      ],
      "metadata": {
        "id": "MFfb_ngRtkkM"
      }
    },
    {
      "cell_type": "code",
      "source": [
        "# @title Run this cell to install OpenAI library and import OpenAI API Key (NOTE: Make sure the text file containing OpenAI Key is uploaded)\n",
        "# Install the OpenAI Library\n",
        "print('Installing OpenAI Library')\n",
        "!pip install -U -qq openai\n",
        "# import openai and set the API key\n",
        "import openai\n",
        "import os\n",
        "print('Reading OpenAI Key Text File')\n",
        "\n",
        "from google.colab import drive\n",
        "drive.mount('/content/drive')\n",
        "\n",
        "# Remember to upload the file containing your OpenAI key. Make sure the file name is correct\n",
        "with open(\"/content/drive/MyDrive/GenAI_Course_Master/Course_1_ShopAssistAI/Week_2/Session_1/OPENAI_API_Key.txt\", \"r\") as f:\n",
        "  openai.api_key = ' '.join(f.readlines())\n",
        "\n",
        "\n",
        "# # Alternatively you may also read the API key via Google Colab secrets\n",
        "# from google.colab import userdata\n",
        "# openai.api_key = userdata.get('OpenAI_API_Key')\n",
        "\n",
        "if openai.api_key.startswith('sk-'):\n",
        "    print('API key loaded successfully')\n",
        "else:\n",
        "  print('Improper API key format')"
      ],
      "metadata": {
        "id": "N9Wyj-1dB9zT",
        "colab": {
          "base_uri": "https://localhost:8080/"
        },
        "outputId": "61be20dd-f1d6-4233-9fa4-73bf47f4189e"
      },
      "execution_count": 2,
      "outputs": [
        {
          "output_type": "stream",
          "name": "stdout",
          "text": [
            "Installing OpenAI Library\n",
            "Reading OpenAI Key Text File\n",
            "Mounted at /content/drive\n",
            "API key loaded successfully\n"
          ]
        }
      ]
    },
    {
      "cell_type": "markdown",
      "source": [
        "# <font color='RED' >MCQ 1\n",
        "**NOTE:** Do not modify</font>\n",
        "<br>\n",
        "\n",
        "Based on the product description given in the `laptop_data` dataset, classify the laptop into one of the following categories using the following tags:\n",
        "- general\n",
        "- business\n",
        "- gamer\n",
        "- programmer\n",
        "- multimedia"
      ],
      "metadata": {
        "id": "Q-au5NZ2OlYt"
      }
    },
    {
      "cell_type": "code",
      "source": [
        "# @title DO NOT MODIFY - Import the necessary libraries & dataset for MCQ 1 and display the DataFrame\n",
        "# import the necessary libraries\n",
        "import pandas as pd\n",
        "import numpy as np\n",
        "# Read the Laptop Dataset\n",
        "df = pd.read_csv('https://cdn.upgrad.com/uploads/production/5a1512d8-a326-4b21-8a1c-40b0a2e0082e/laptop_descriptions.csv')\n",
        "df.head(12)"
      ],
      "metadata": {
        "colab": {
          "base_uri": "https://localhost:8080/",
          "height": 426
        },
        "id": "m_upgAlxCPJV",
        "outputId": "85af2317-b89d-4868-d3d2-b2ef994e88e5"
      },
      "execution_count": 3,
      "outputs": [
        {
          "output_type": "execute_result",
          "data": {
            "text/plain": [
              "                                   laptop_description\n",
              "0   The Dell Inspiron is a versatile laptop that c...\n",
              "1   The MSI GL65 is a high-performance laptop desi...\n",
              "2   The HP EliteBook is a premium laptop designed ...\n",
              "3   The Lenovo IdeaPad is a versatile laptop that ...\n",
              "4   The ASUS ZenBook Pro is a high-end laptop that...\n",
              "5   The Acer Predator is a powerhouse laptop desig...\n",
              "6   The Microsoft Surface Laptop is a premium devi...\n",
              "7   The Lenovo ThinkPad is a powerful laptop desig...\n",
              "8   The HP Pavilion is a budget-friendly laptop th...\n",
              "9   The ASUS ROG Strix G is a high-performance gam...\n",
              "10  The Dell XPS 15 is a premium laptop that combi...\n",
              "11  The Lenovo ThinkPad X1 Carbon is a sleek and l..."
            ],
            "text/html": [
              "\n",
              "  <div id=\"df-499d650d-bcba-448b-91ef-aa43fb763b39\" class=\"colab-df-container\">\n",
              "    <div>\n",
              "<style scoped>\n",
              "    .dataframe tbody tr th:only-of-type {\n",
              "        vertical-align: middle;\n",
              "    }\n",
              "\n",
              "    .dataframe tbody tr th {\n",
              "        vertical-align: top;\n",
              "    }\n",
              "\n",
              "    .dataframe thead th {\n",
              "        text-align: right;\n",
              "    }\n",
              "</style>\n",
              "<table border=\"1\" class=\"dataframe\">\n",
              "  <thead>\n",
              "    <tr style=\"text-align: right;\">\n",
              "      <th></th>\n",
              "      <th>laptop_description</th>\n",
              "    </tr>\n",
              "  </thead>\n",
              "  <tbody>\n",
              "    <tr>\n",
              "      <th>0</th>\n",
              "      <td>The Dell Inspiron is a versatile laptop that c...</td>\n",
              "    </tr>\n",
              "    <tr>\n",
              "      <th>1</th>\n",
              "      <td>The MSI GL65 is a high-performance laptop desi...</td>\n",
              "    </tr>\n",
              "    <tr>\n",
              "      <th>2</th>\n",
              "      <td>The HP EliteBook is a premium laptop designed ...</td>\n",
              "    </tr>\n",
              "    <tr>\n",
              "      <th>3</th>\n",
              "      <td>The Lenovo IdeaPad is a versatile laptop that ...</td>\n",
              "    </tr>\n",
              "    <tr>\n",
              "      <th>4</th>\n",
              "      <td>The ASUS ZenBook Pro is a high-end laptop that...</td>\n",
              "    </tr>\n",
              "    <tr>\n",
              "      <th>5</th>\n",
              "      <td>The Acer Predator is a powerhouse laptop desig...</td>\n",
              "    </tr>\n",
              "    <tr>\n",
              "      <th>6</th>\n",
              "      <td>The Microsoft Surface Laptop is a premium devi...</td>\n",
              "    </tr>\n",
              "    <tr>\n",
              "      <th>7</th>\n",
              "      <td>The Lenovo ThinkPad is a powerful laptop desig...</td>\n",
              "    </tr>\n",
              "    <tr>\n",
              "      <th>8</th>\n",
              "      <td>The HP Pavilion is a budget-friendly laptop th...</td>\n",
              "    </tr>\n",
              "    <tr>\n",
              "      <th>9</th>\n",
              "      <td>The ASUS ROG Strix G is a high-performance gam...</td>\n",
              "    </tr>\n",
              "    <tr>\n",
              "      <th>10</th>\n",
              "      <td>The Dell XPS 15 is a premium laptop that combi...</td>\n",
              "    </tr>\n",
              "    <tr>\n",
              "      <th>11</th>\n",
              "      <td>The Lenovo ThinkPad X1 Carbon is a sleek and l...</td>\n",
              "    </tr>\n",
              "  </tbody>\n",
              "</table>\n",
              "</div>\n",
              "    <div class=\"colab-df-buttons\">\n",
              "\n",
              "  <div class=\"colab-df-container\">\n",
              "    <button class=\"colab-df-convert\" onclick=\"convertToInteractive('df-499d650d-bcba-448b-91ef-aa43fb763b39')\"\n",
              "            title=\"Convert this dataframe to an interactive table.\"\n",
              "            style=\"display:none;\">\n",
              "\n",
              "  <svg xmlns=\"http://www.w3.org/2000/svg\" height=\"24px\" viewBox=\"0 -960 960 960\">\n",
              "    <path d=\"M120-120v-720h720v720H120Zm60-500h600v-160H180v160Zm220 220h160v-160H400v160Zm0 220h160v-160H400v160ZM180-400h160v-160H180v160Zm440 0h160v-160H620v160ZM180-180h160v-160H180v160Zm440 0h160v-160H620v160Z\"/>\n",
              "  </svg>\n",
              "    </button>\n",
              "\n",
              "  <style>\n",
              "    .colab-df-container {\n",
              "      display:flex;\n",
              "      gap: 12px;\n",
              "    }\n",
              "\n",
              "    .colab-df-convert {\n",
              "      background-color: #E8F0FE;\n",
              "      border: none;\n",
              "      border-radius: 50%;\n",
              "      cursor: pointer;\n",
              "      display: none;\n",
              "      fill: #1967D2;\n",
              "      height: 32px;\n",
              "      padding: 0 0 0 0;\n",
              "      width: 32px;\n",
              "    }\n",
              "\n",
              "    .colab-df-convert:hover {\n",
              "      background-color: #E2EBFA;\n",
              "      box-shadow: 0px 1px 2px rgba(60, 64, 67, 0.3), 0px 1px 3px 1px rgba(60, 64, 67, 0.15);\n",
              "      fill: #174EA6;\n",
              "    }\n",
              "\n",
              "    .colab-df-buttons div {\n",
              "      margin-bottom: 4px;\n",
              "    }\n",
              "\n",
              "    [theme=dark] .colab-df-convert {\n",
              "      background-color: #3B4455;\n",
              "      fill: #D2E3FC;\n",
              "    }\n",
              "\n",
              "    [theme=dark] .colab-df-convert:hover {\n",
              "      background-color: #434B5C;\n",
              "      box-shadow: 0px 1px 3px 1px rgba(0, 0, 0, 0.15);\n",
              "      filter: drop-shadow(0px 1px 2px rgba(0, 0, 0, 0.3));\n",
              "      fill: #FFFFFF;\n",
              "    }\n",
              "  </style>\n",
              "\n",
              "    <script>\n",
              "      const buttonEl =\n",
              "        document.querySelector('#df-499d650d-bcba-448b-91ef-aa43fb763b39 button.colab-df-convert');\n",
              "      buttonEl.style.display =\n",
              "        google.colab.kernel.accessAllowed ? 'block' : 'none';\n",
              "\n",
              "      async function convertToInteractive(key) {\n",
              "        const element = document.querySelector('#df-499d650d-bcba-448b-91ef-aa43fb763b39');\n",
              "        const dataTable =\n",
              "          await google.colab.kernel.invokeFunction('convertToInteractive',\n",
              "                                                    [key], {});\n",
              "        if (!dataTable) return;\n",
              "\n",
              "        const docLinkHtml = 'Like what you see? Visit the ' +\n",
              "          '<a target=\"_blank\" href=https://colab.research.google.com/notebooks/data_table.ipynb>data table notebook</a>'\n",
              "          + ' to learn more about interactive tables.';\n",
              "        element.innerHTML = '';\n",
              "        dataTable['output_type'] = 'display_data';\n",
              "        await google.colab.output.renderOutput(dataTable, element);\n",
              "        const docLink = document.createElement('div');\n",
              "        docLink.innerHTML = docLinkHtml;\n",
              "        element.appendChild(docLink);\n",
              "      }\n",
              "    </script>\n",
              "  </div>\n",
              "\n",
              "\n",
              "<div id=\"df-6f59a72f-a608-421a-bfd2-df7b65b106d2\">\n",
              "  <button class=\"colab-df-quickchart\" onclick=\"quickchart('df-6f59a72f-a608-421a-bfd2-df7b65b106d2')\"\n",
              "            title=\"Suggest charts\"\n",
              "            style=\"display:none;\">\n",
              "\n",
              "<svg xmlns=\"http://www.w3.org/2000/svg\" height=\"24px\"viewBox=\"0 0 24 24\"\n",
              "     width=\"24px\">\n",
              "    <g>\n",
              "        <path d=\"M19 3H5c-1.1 0-2 .9-2 2v14c0 1.1.9 2 2 2h14c1.1 0 2-.9 2-2V5c0-1.1-.9-2-2-2zM9 17H7v-7h2v7zm4 0h-2V7h2v10zm4 0h-2v-4h2v4z\"/>\n",
              "    </g>\n",
              "</svg>\n",
              "  </button>\n",
              "\n",
              "<style>\n",
              "  .colab-df-quickchart {\n",
              "      --bg-color: #E8F0FE;\n",
              "      --fill-color: #1967D2;\n",
              "      --hover-bg-color: #E2EBFA;\n",
              "      --hover-fill-color: #174EA6;\n",
              "      --disabled-fill-color: #AAA;\n",
              "      --disabled-bg-color: #DDD;\n",
              "  }\n",
              "\n",
              "  [theme=dark] .colab-df-quickchart {\n",
              "      --bg-color: #3B4455;\n",
              "      --fill-color: #D2E3FC;\n",
              "      --hover-bg-color: #434B5C;\n",
              "      --hover-fill-color: #FFFFFF;\n",
              "      --disabled-bg-color: #3B4455;\n",
              "      --disabled-fill-color: #666;\n",
              "  }\n",
              "\n",
              "  .colab-df-quickchart {\n",
              "    background-color: var(--bg-color);\n",
              "    border: none;\n",
              "    border-radius: 50%;\n",
              "    cursor: pointer;\n",
              "    display: none;\n",
              "    fill: var(--fill-color);\n",
              "    height: 32px;\n",
              "    padding: 0;\n",
              "    width: 32px;\n",
              "  }\n",
              "\n",
              "  .colab-df-quickchart:hover {\n",
              "    background-color: var(--hover-bg-color);\n",
              "    box-shadow: 0 1px 2px rgba(60, 64, 67, 0.3), 0 1px 3px 1px rgba(60, 64, 67, 0.15);\n",
              "    fill: var(--button-hover-fill-color);\n",
              "  }\n",
              "\n",
              "  .colab-df-quickchart-complete:disabled,\n",
              "  .colab-df-quickchart-complete:disabled:hover {\n",
              "    background-color: var(--disabled-bg-color);\n",
              "    fill: var(--disabled-fill-color);\n",
              "    box-shadow: none;\n",
              "  }\n",
              "\n",
              "  .colab-df-spinner {\n",
              "    border: 2px solid var(--fill-color);\n",
              "    border-color: transparent;\n",
              "    border-bottom-color: var(--fill-color);\n",
              "    animation:\n",
              "      spin 1s steps(1) infinite;\n",
              "  }\n",
              "\n",
              "  @keyframes spin {\n",
              "    0% {\n",
              "      border-color: transparent;\n",
              "      border-bottom-color: var(--fill-color);\n",
              "      border-left-color: var(--fill-color);\n",
              "    }\n",
              "    20% {\n",
              "      border-color: transparent;\n",
              "      border-left-color: var(--fill-color);\n",
              "      border-top-color: var(--fill-color);\n",
              "    }\n",
              "    30% {\n",
              "      border-color: transparent;\n",
              "      border-left-color: var(--fill-color);\n",
              "      border-top-color: var(--fill-color);\n",
              "      border-right-color: var(--fill-color);\n",
              "    }\n",
              "    40% {\n",
              "      border-color: transparent;\n",
              "      border-right-color: var(--fill-color);\n",
              "      border-top-color: var(--fill-color);\n",
              "    }\n",
              "    60% {\n",
              "      border-color: transparent;\n",
              "      border-right-color: var(--fill-color);\n",
              "    }\n",
              "    80% {\n",
              "      border-color: transparent;\n",
              "      border-right-color: var(--fill-color);\n",
              "      border-bottom-color: var(--fill-color);\n",
              "    }\n",
              "    90% {\n",
              "      border-color: transparent;\n",
              "      border-bottom-color: var(--fill-color);\n",
              "    }\n",
              "  }\n",
              "</style>\n",
              "\n",
              "  <script>\n",
              "    async function quickchart(key) {\n",
              "      const quickchartButtonEl =\n",
              "        document.querySelector('#' + key + ' button');\n",
              "      quickchartButtonEl.disabled = true;  // To prevent multiple clicks.\n",
              "      quickchartButtonEl.classList.add('colab-df-spinner');\n",
              "      try {\n",
              "        const charts = await google.colab.kernel.invokeFunction(\n",
              "            'suggestCharts', [key], {});\n",
              "      } catch (error) {\n",
              "        console.error('Error during call to suggestCharts:', error);\n",
              "      }\n",
              "      quickchartButtonEl.classList.remove('colab-df-spinner');\n",
              "      quickchartButtonEl.classList.add('colab-df-quickchart-complete');\n",
              "    }\n",
              "    (() => {\n",
              "      let quickchartButtonEl =\n",
              "        document.querySelector('#df-6f59a72f-a608-421a-bfd2-df7b65b106d2 button');\n",
              "      quickchartButtonEl.style.display =\n",
              "        google.colab.kernel.accessAllowed ? 'block' : 'none';\n",
              "    })();\n",
              "  </script>\n",
              "</div>\n",
              "\n",
              "    </div>\n",
              "  </div>\n"
            ],
            "application/vnd.google.colaboratory.intrinsic+json": {
              "type": "dataframe",
              "variable_name": "df",
              "summary": "{\n  \"name\": \"df\",\n  \"rows\": 20,\n  \"fields\": [\n    {\n      \"column\": \"laptop_description\",\n      \"properties\": {\n        \"dtype\": \"string\",\n        \"num_unique_values\": 20,\n        \"samples\": [\n          \"The Dell Inspiron is a versatile laptop that combines powerful performance and affordability. It features an Intel Core i5 processor clocked at 2.4 GHz, ensuring smooth multitasking and efficient computing. With 8GB of RAM and an SSD, it offers quick data access and ample storage capacity. The laptop sports a vibrant 15.6\\\" LCD display with a resolution of 1920x1080, delivering crisp visuals and immersive viewing experience. Weighing just 2.5 kg, it is highly portable, making it ideal for on-the-go usage. Additionally, it boasts an Intel UHD GPU for decent graphical performance and a backlit keyboard for enhanced typing convenience. With a one-year warranty and a battery life of up to 6 hours, the Dell Inspiron is a reliable companion for work or entertainment. All these features are packed at an affordable price of 35,000, making it an excellent choice for budget-conscious users.\",\n          \"The HP ENVY x360 is a versatile 2-in-1 convertible laptop that combines performance and flexibility. It features an Intel Core i7 processor running at 2.8 GHz, providing powerful processing capabilities for multitasking and productivity. With 16GB of RAM and an SSD, it offers fast and efficient performance along with ample storage space. The laptop features a 15.6\\\" IPS display with a resolution of 1920x1080, delivering vibrant visuals and wide viewing angles. It comes with Intel Iris Xe integrated graphics for smooth graphics performance. Weighing 2.05 kg, it offers a good balance between portability and functionality. The laptop features a convertible design, allowing you to switch between laptop and tablet modes for enhanced versatility. With a one-year warranty and a battery life of up to 7 hours, the HP ENVY x360 offers reliability and endurance for everyday use. Priced at 80,000, it provides a versatile computing experience at an affordable price point.\",\n          \"The ASUS ZenBook 13 is a lightweight and powerful laptop that offers a premium computing experience. It is equipped with an Intel Core i7 processor running at 2.8 GHz, providing strong processing power for multitasking and productivity. With 16GB of RAM and an SSD, it offers fast and responsive performance along with ample storage capacity. The laptop features a 13.3\\\" NanoEdge display with a resolution of 1920x1080, delivering crisp visuals and immersive viewing. It comes with Intel Iris Xe integrated graphics for smooth graphics performance. Weighing just 1.11 kg, it is incredibly lightweight and highly portable. The laptop features military-grade durability, ensuring durability and reliability. With a two-year warranty and an impressive battery life of up to 11 hours, the ASUS ZenBook 13 offers long-lasting performance and endurance. Priced at 95,000, it provides a premium experience for users seeking a powerful and lightweight laptop.\"\n        ],\n        \"semantic_type\": \"\",\n        \"description\": \"\"\n      }\n    }\n  ]\n}"
            }
          },
          "metadata": {},
          "execution_count": 3
        }
      ]
    },
    {
      "cell_type": "markdown",
      "source": [
        "The laptop tags and their descriptions are given in the table below:\n",
        "\n",
        "\n",
        "| Category | Description |\n",
        "| --------------- | --------------- |\n",
        "| general | For general purpose use such as light web browsing, editing documents etc. |\n",
        "| business | For business users, the focus is on portability, battery backup and general purpose use. |\n",
        "| gamer | For gamers, the focus is primarily on high-performance, a separate GPU for high-performance graphics, a high-end CPU processor etc. |\n",
        "| programmer | For programmers, the focus is on performance, battery backup, high-end RAM etc. |\n",
        "| multimedia | For multimedia use cases, the requirements are a good quality/ high resolution display, wide screens, good audio and video quality, battery backup, efficiency etc. |\n"
      ],
      "metadata": {
        "id": "56IpxR5yO-8k"
      }
    },
    {
      "cell_type": "markdown",
      "source": [
        "The final output dataframe should like the table below:\n",
        "\n",
        "| laptop_description | category |\n",
        "|--------------- |--------------- |\n",
        "| The Dell Inspiron ... | **general** |\n",
        "| The MSI GL65 ... | **gaming** |\n",
        "|  ... | **...** |\n"
      ],
      "metadata": {
        "id": "ro2kIVSpQTfR"
      }
    },
    {
      "cell_type": "markdown",
      "source": [
        "# <font color='green' >CODE FOR MCQ 1</font>\n",
        " ---\n"
      ],
      "metadata": {
        "id": "Y_zSN6wyTxgs"
      }
    },
    {
      "cell_type": "code",
      "source": [
        "# @title TO DO 1.1 - OpenAI Chat Completion Response\n",
        "\n",
        "### Function to get OpenAI's response - ChatCompletion Model\n",
        "def get_chat_response_mcq1(user_request):\n",
        "  '''\n",
        "  This function ONLY takes `user_request` as the input argument.\n",
        "  As you can see, the System Prompt is given inside the function itself so we don't require to give it as an input argument\n",
        "  '''\n",
        "  MODEL = \"gpt-3.5-turbo\" # Define GPT model\n",
        "\n",
        "  SYSTEM_MESSAGE = '''You are a shopping assistant. The user will give you laptop description and some categories and their details. You have to find out which of the categories does the laptop fit best according to description. Remember to only give one word output, the category name, from the list of categories only, which resembles most closely.''' # Default System Message\n",
        "\n",
        "  try:\n",
        "\n",
        "    messages = [\n",
        "        {\"role\": \"system\", \"content\": SYSTEM_MESSAGE},\n",
        "        {\"role\": \"user\", \"content\": user_request}\n",
        "    ] # Define the list of messages\n",
        "\n",
        "    response = openai.chat.completions.create(model= MODEL, messages=messages)  # Get the ChatCompletion Response from the GPT-3.5 model\n",
        "\n",
        "    response_content = response.choices[0].message.content # Parse the response_content from the message\n",
        "\n",
        "    return response_content\n",
        "\n",
        "  # Raise exception error\n",
        "  except Exception as e:\n",
        "    print(f\"An error occurred: {e}\")\n",
        "    return None"
      ],
      "metadata": {
        "id": "a9UKFklYRotq"
      },
      "execution_count": 15,
      "outputs": []
    },
    {
      "cell_type": "code",
      "source": [
        "# @title TO DO 1.2 - PROMPT DEFINITION\n",
        "\n",
        "mcq1_prompt = '''\n",
        "From the description of a laptop (delimited by '###'), you have to identify what role does the laptop serve. Refer to the key value pairs of categories and category details below. Identify which of the following details does the product description fits best and assign that category to that latpop. \\n\n",
        "Categories:\n",
        "[\n",
        "    'general': 'For general purpose use such as light web browsing, editing documents etc.'\n",
        "    'business': 'For business users, the focus is on portability, battery backup and general purpose use.'\n",
        "    'gamer': 'For gamers, the focus is primarily on high-performance, high-end graphics requirement, efficient processor etc.'\n",
        "    'programmer': 'For programmers, the focus is on performance, battery backup, high-end RAM etc.'\n",
        "    'multimedia': 'For multimedia use cases, the requirements are a good quality/ high resolution display, wide screens, good audio and video quality, battery backup, efficiency etc.' # Write the prompt here\n",
        "] \\n\n",
        "Laptop description: {description}\n",
        "'''# Write the user prompt here\n",
        "\n"
      ],
      "metadata": {
        "id": "LRZHnxBtFCN7"
      },
      "execution_count": 9,
      "outputs": []
    },
    {
      "cell_type": "code",
      "source": [
        "# @title TO DO 1.3 - Code to tag the laptop based on their descriptions\n",
        "def tag_laptop():\n",
        "\n",
        "  laptop_df = df.copy()\n",
        "  laptop_dict = laptop_df.to_dict(orient ='records')\n",
        "\n",
        "  # Get the laptop_category for each laptop_decription df['laptop_description'] by iterating over the dataframe with a for-loop\n",
        "\n",
        "  for i in range(len(laptop_dict)):\n",
        "    prompt = mcq1_prompt.format(description=laptop_dict[i]['laptop_description'])\n",
        "    laptop_category = get_chat_response_mcq1(prompt)\n",
        "    # Assign the laptop category to the column laptop_category\n",
        "    laptop_df.at[i,'Category'] = laptop_category\n",
        "\n",
        "  # return the DataFrame\n",
        "  return laptop_df\n",
        "  # How will you get the description for each laptop?\n",
        "\n",
        "  #code....\n",
        "\n",
        "  # Next step? How will your model get the category for that product?\n",
        "\n",
        "  # Assign the laptop category in the 'category' column...\n",
        "\n"
      ],
      "metadata": {
        "id": "rhoiRi5NRuYs"
      },
      "execution_count": 16,
      "outputs": []
    },
    {
      "cell_type": "code",
      "source": [
        "# Try to find the category of the 2nd laptop in the dataframe.\n",
        "tag_df = tag_laptop()\n",
        "# Try to find the total number of laptops belonging to each category.\n",
        "tag_df.iloc[1]['Category']"
      ],
      "metadata": {
        "id": "pEKRJUV9gvMH",
        "colab": {
          "base_uri": "https://localhost:8080/",
          "height": 35
        },
        "outputId": "8e998821-4153-49bb-dfc9-4e5c065658d2"
      },
      "execution_count": 17,
      "outputs": [
        {
          "output_type": "execute_result",
          "data": {
            "text/plain": [
              "'gamer'"
            ],
            "application/vnd.google.colaboratory.intrinsic+json": {
              "type": "string"
            }
          },
          "metadata": {},
          "execution_count": 17
        }
      ]
    },
    {
      "cell_type": "code",
      "source": [
        "tag_df['Category'].value_counts()"
      ],
      "metadata": {
        "colab": {
          "base_uri": "https://localhost:8080/",
          "height": 304
        },
        "id": "pUAsPjLbdHPy",
        "outputId": "788fd005-1543-4f0c-e8ba-2159ee0150f3"
      },
      "execution_count": 18,
      "outputs": [
        {
          "output_type": "execute_result",
          "data": {
            "text/plain": [
              "Category\n",
              "multimedia    6\n",
              "gamer         5\n",
              "business      5\n",
              "general       2\n",
              "'business'    1\n",
              "programmer    1\n",
              "Name: count, dtype: int64"
            ],
            "text/html": [
              "<div>\n",
              "<style scoped>\n",
              "    .dataframe tbody tr th:only-of-type {\n",
              "        vertical-align: middle;\n",
              "    }\n",
              "\n",
              "    .dataframe tbody tr th {\n",
              "        vertical-align: top;\n",
              "    }\n",
              "\n",
              "    .dataframe thead th {\n",
              "        text-align: right;\n",
              "    }\n",
              "</style>\n",
              "<table border=\"1\" class=\"dataframe\">\n",
              "  <thead>\n",
              "    <tr style=\"text-align: right;\">\n",
              "      <th></th>\n",
              "      <th>count</th>\n",
              "    </tr>\n",
              "    <tr>\n",
              "      <th>Category</th>\n",
              "      <th></th>\n",
              "    </tr>\n",
              "  </thead>\n",
              "  <tbody>\n",
              "    <tr>\n",
              "      <th>multimedia</th>\n",
              "      <td>6</td>\n",
              "    </tr>\n",
              "    <tr>\n",
              "      <th>gamer</th>\n",
              "      <td>5</td>\n",
              "    </tr>\n",
              "    <tr>\n",
              "      <th>business</th>\n",
              "      <td>5</td>\n",
              "    </tr>\n",
              "    <tr>\n",
              "      <th>general</th>\n",
              "      <td>2</td>\n",
              "    </tr>\n",
              "    <tr>\n",
              "      <th>'business'</th>\n",
              "      <td>1</td>\n",
              "    </tr>\n",
              "    <tr>\n",
              "      <th>programmer</th>\n",
              "      <td>1</td>\n",
              "    </tr>\n",
              "  </tbody>\n",
              "</table>\n",
              "</div><br><label><b>dtype:</b> int64</label>"
            ]
          },
          "metadata": {},
          "execution_count": 18
        }
      ]
    },
    {
      "cell_type": "markdown",
      "source": [
        "# <font color='RED' >MCQ 2\n",
        "**NOTE:** Do not modify</font>\n",
        "<br>\n",
        "**Task**: Information Extraction\n",
        "\n",
        "Extract the relevant values for the following dictionary items from the product description.\n",
        "\n",
        "\n",
        "```\n",
        "{\n",
        "    \"Brand\": ___ ,\n",
        "    \"Model Name\": ___ ,\n",
        "    \"GPU processor\": ___ ,\n",
        "    \"Display Resolution\": ___ ,\n",
        "    \"Weight\": ___ ,\n",
        "    \"Processor\": ___ ,\n",
        "    \"Clock speed\": ___ ,\n",
        "    \"Budget\": ___\n",
        "```\n",
        "\n",
        "You can add this property dictionary for all the products to a list and output that list."
      ],
      "metadata": {
        "id": "IzFYzS7_Ssw6"
      }
    },
    {
      "cell_type": "markdown",
      "source": [
        "# <font color='GREEN' >CODE FOR MCQ 2</font>\n",
        " ---"
      ],
      "metadata": {
        "id": "g9tImyy0UNUB"
      }
    },
    {
      "cell_type": "code",
      "source": [
        "# @title TO DO 2.1 - CREATE THE PROMPT\n",
        "# NOTE: The mcq2_prompt must also send the description as context from each df['Description'] value of the laptops\n",
        "structure = '''{\n",
        "    \"Brand\": ___ ,\n",
        "    \"Model Name\": ___ ,\n",
        "    \"GPU processor\": ___ ,\n",
        "    \"Display Resolution\": ___ ,\n",
        "    \"Weight\": ___ ,\n",
        "    \"Processor\": ___ ,\n",
        "    \"Clock speed\": ___ ,\n",
        "    \"Budget\": ___\n",
        "}'''\n",
        "\n",
        "mcq2_prompt = '''\n",
        "Laptop Decription: {description}\n",
        "From the laptop decription above, you have to extract relevant values for the following dictionary items. The dictionary structure should be as follows: {str}\n",
        "Try giving quantitative, absolute, or numerical outputs. Try not to give qualitative or adjective outputs. for example: If the processing speed of a laptop is 2.4GHz, then, in the \"processing speed\" key, give output as '2.4GHz' instead of 'very fast'.\n",
        "Extract only one word values of these properties. Fill in the blanks for each product and output each product's dictionary in json format.\n",
        "'''\n",
        "\n"
      ],
      "metadata": {
        "id": "YZQ-lKA3S2_2"
      },
      "execution_count": 19,
      "outputs": []
    },
    {
      "cell_type": "code",
      "source": [
        "# @title TO DO 2.2 - Define the Chat Completion Response\n",
        "# Function to get OpenAI's response - ChatCompletion Model\n",
        "def get_chat_response_mcq2(user_request):\n",
        "\n",
        "  MODEL = 'gpt-3.5-turbo' # Define GPT model\n",
        "\n",
        "  SYSTEM_MESSAGE = 'You are a helpful shopping assistant.'# Default System Message\n",
        "\n",
        "  try:\n",
        "\n",
        "    messages = [\n",
        "        {'role': 'system', 'content': SYSTEM_MESSAGE},\n",
        "        {'role': 'user', 'content': user_request}] # Define the list of messages\n",
        "\n",
        "    response = openai.chat.completions.create(model= MODEL,\n",
        "        messages = messages,\n",
        "        response_format = {'type': 'json_object'})\n",
        "        # Get the ChatCompletion Response from the GPT-3.5 model\n",
        "\n",
        "    response_content = response.choices[0].message.content # Parse the response_content from the message\n",
        "\n",
        "    return response_content\n",
        "\n",
        "  # Raise exception error\n",
        "  except Exception as e:\n",
        "    print(f\"An error occurred: {e}\")\n",
        "    return None"
      ],
      "metadata": {
        "id": "868V72oSXQyK"
      },
      "execution_count": 20,
      "outputs": []
    },
    {
      "cell_type": "code",
      "source": [
        "# @title TO DO 2.3 - Write the code to extract product information from the 'laptop_description' column values in the DataFrame\n",
        "def extract_information():\n",
        "\n",
        "# You have to store the property dictionaries in a list.\n",
        "  laptop_df = df.copy()\n",
        "  laptop_dict = laptop_df.to_dict(orient ='records')\n",
        "  result = []\n",
        "  for i in range(len(laptop_dict)):\n",
        "    prompt = mcq2_prompt.format(description=laptop_dict[i]['laptop_description'], str=structure)\n",
        "    values = get_chat_response_mcq2(prompt)\n",
        "    result.append(values)\n",
        "    # We will print each of the dictionary of properties\n",
        "    print(result[i])\n",
        "  # But in the function output, we are returning the whole list as a whole.\n",
        "  return result\n",
        "  # Your solution can differ, but your end goal is to output the properties for all products in one single list.\n",
        "# How will you attempt the task?\n",
        "# First, get relevant values for each property using the model.\n",
        "# Think about how to add all those values to a list."
      ],
      "metadata": {
        "id": "dUnU1iNMXxpH"
      },
      "execution_count": 21,
      "outputs": []
    },
    {
      "cell_type": "code",
      "source": [
        "values = extract_information()"
      ],
      "metadata": {
        "colab": {
          "base_uri": "https://localhost:8080/"
        },
        "id": "G4o1y3vlfWoT",
        "outputId": "6d0e5dd8-ce01-4cbe-f25c-ca850712f46a"
      },
      "execution_count": 22,
      "outputs": [
        {
          "output_type": "stream",
          "name": "stdout",
          "text": [
            "{\n",
            "    \"Brand\": \"Dell\",\n",
            "    \"Model Name\": \"Inspiron\",\n",
            "    \"GPU processor\": \"Intel\",\n",
            "    \"Display Resolution\": \"1920x1080\",\n",
            "    \"Weight\": \"2.5kg\",\n",
            "    \"Processor\": \"Core i5\",\n",
            "    \"Clock speed\": \"2.4GHz\",\n",
            "    \"Budget\": \"35000\"\n",
            "}\n",
            "{\n",
            "    \"Brand\": \"MSI\",\n",
            "    \"Model Name\": \"GL65\",\n",
            "    \"GPU processor\": \"NVIDIA\",\n",
            "    \"Display Resolution\": \"1920x1080\",\n",
            "    \"Weight\": \"2.3kg\",\n",
            "    \"Processor\": \"Intel\",\n",
            "    \"Clock speed\": \"2.6GHz\",\n",
            "    \"Budget\": 55000\n",
            "}\n",
            "{\n",
            "    \"Brand\": \"HP\",\n",
            "    \"Model Name\": \"EliteBook\",\n",
            "    \"GPU processor\": \"Intel UHD\",\n",
            "    \"Display Resolution\": \"1920x1080\",\n",
            "    \"Weight\": \"1.5kg\",\n",
            "    \"Processor\": \"Core i7\",\n",
            "    \"Clock speed\": \"2.8GHz\",\n",
            "    \"Budget\": \"90000\"\n",
            "}\n",
            "{\n",
            "    \"Brand\": \"Lenovo\",\n",
            "    \"Model Name\": \"IdeaPad\",\n",
            "    \"GPU processor\": \"Intel UHD\",\n",
            "    \"Display Resolution\": \"1366x768\",\n",
            "    \"Weight\": \"2.2kg\",\n",
            "    \"Processor\": \"Intel Core i3\",\n",
            "    \"Clock speed\": \"2.1GHz\",\n",
            "    \"Budget\": \"25,000\"\n",
            "}\n",
            "{\n",
            "    \"Brand\": \"ASUS\",\n",
            "    \"Model Name\": \"ZenBook Pro\",\n",
            "    \"GPU processor\": \"NVIDIA\",\n",
            "    \"Display Resolution\": \"3840x2160\",\n",
            "    \"Weight\": \"1.8kg\",\n",
            "    \"Processor\": \"Intel\",\n",
            "    \"Clock speed\": \"3.1GHz\",\n",
            "    \"Budget\": \"200000\"\n",
            "}\n",
            "{\n",
            "    \"Brand\": \"Acer\",\n",
            "    \"Model Name\": \"Predator\",\n",
            "    \"GPU processor\": \"NVIDIA\",\n",
            "    \"Display Resolution\": \"1920x1080\",\n",
            "    \"Weight\": \"3.2kg\",\n",
            "    \"Processor\": \"Intel\",\n",
            "    \"Clock speed\": \"2.8GHz\",\n",
            "    \"Budget\": \"80000\"\n",
            "}\n",
            "{\n",
            "    \"Brand\": \"Microsoft\",\n",
            "    \"Model Name\": \"Surface Laptop\",\n",
            "    \"GPU processor\": \"Intel Iris Plus\",\n",
            "    \"Display Resolution\": \"2256x1504\",\n",
            "    \"Weight\": \"1.3kg\",\n",
            "    \"Processor\": \"Intel Core i5\",\n",
            "    \"Clock speed\": \"1.6GHz\",\n",
            "    \"Budget\": 90000\n",
            "}\n",
            "{\n",
            "    \"Brand\": \"Lenovo\",\n",
            "    \"Model Name\": \"ThinkPad\",\n",
            "    \"GPU processor\": \"NVIDIA\",\n",
            "    \"Display Resolution\": \"2560x1440\",\n",
            "    \"Weight\": \"1.6kg\",\n",
            "    \"Processor\": \"Ryzen\",\n",
            "    \"Clock speed\": \"3.0GHz\",\n",
            "    \"Budget\": \"60000\"\n",
            "}\n",
            "{\n",
            "    \"Brand\": \"HP\",\n",
            "    \"Model Name\": \"Pavilion\",\n",
            "    \"GPU processor\": \"Intel UHD\",\n",
            "    \"Display Resolution\": \"1366x768\",\n",
            "    \"Weight\": \"2.1kg\",\n",
            "    \"Processor\": \"Intel Core i5\",\n",
            "    \"Clock speed\": \"2.3GHz\",\n",
            "    \"Budget\": \"30000\"\n",
            "}\n",
            "{\n",
            "    \"Brand\": \"ASUS\",\n",
            "    \"Model Name\": \"ROG Strix G\",\n",
            "    \"GPU processor\": \"NVIDIA\",\n",
            "    \"Display Resolution\": \"1920x1080\",\n",
            "    \"Weight\": \"2.9kg\",\n",
            "    \"Processor\": \"Intel\",\n",
            "    \"Clock speed\": \"2.9GHz\",\n",
            "    \"Budget\": \"85,000\"\n",
            "}\n",
            "{\n",
            "    \"Brand\": \"Dell\",\n",
            "    \"Model Name\": \"XPS 15\",\n",
            "    \"GPU processor\": \"NVIDIA\",\n",
            "    \"Display Resolution\": \"3840x2160\",\n",
            "    \"Weight\": \"1.8kg\",\n",
            "    \"Processor\": \"Intel\",\n",
            "    \"Clock speed\": \"2.8GHz\",\n",
            "    \"Budget\": \"180000\"\n",
            "}\n",
            "{\n",
            "    \"Brand\": \"Lenovo\",\n",
            "    \"Model Name\": \"ThinkPad X1 Carbon\",\n",
            "    \"GPU processor\": \"Intel UHD\",\n",
            "    \"Display Resolution\": \"2560x1440\",\n",
            "    \"Weight\": \"1.13kg\",\n",
            "    \"Processor\": \"Intel Core i7\",\n",
            "    \"Clock speed\": \"2.6GHz\",\n",
            "    \"Budget\": 130000\n",
            "}\n",
            "{\n",
            "    \"Brand\": \"Acer\",\n",
            "    \"Model Name\": \"Swift 3\",\n",
            "    \"GPU processor\": \"Radeon\",\n",
            "    \"Display Resolution\": \"1920x1080\",\n",
            "    \"Weight\": \"1.2 kg\",\n",
            "    \"Processor\": \"Ryzen 5\",\n",
            "    \"Clock speed\": \"2.3 GHz\",\n",
            "    \"Budget\": \"50,000\"\n",
            "}\n",
            "{\n",
            "    \"Brand\": \"Apple\",\n",
            "    \"Model Name\": \"MacBook Air\",\n",
            "    \"GPU processor\": \"Integrated\",\n",
            "    \"Display Resolution\": \"2560x1600\",\n",
            "    \"Weight\": \"1.29kg\",\n",
            "    \"Processor\": \"M1\",\n",
            "    \"Clock speed\": \"3.2GHz\",\n",
            "    \"Budget\": \"100000\"\n",
            "}\n",
            "{\n",
            "    \"Brand\": \"MSI\",\n",
            "    \"Model Name\": \"Prestige 14\",\n",
            "    \"GPU processor\": \"NVIDIA\",\n",
            "    \"Display Resolution\": \"1920x1080\",\n",
            "    \"Weight\": \"1.29kg\",\n",
            "    \"Processor\": \"Intel\",\n",
            "    \"Clock speed\": \"2.4GHz\",\n",
            "    \"Budget\": \"70,000\"\n",
            "}\n",
            "{\n",
            "    \"Brand\": \"ASUS\",\n",
            "    \"Model Name\": \"ZenBook 13\",\n",
            "    \"GPU processor\": \"Intel Iris Xe\",\n",
            "    \"Display Resolution\": \"1920x1080\",\n",
            "    \"Weight\": \"1.11kg\",\n",
            "    \"Processor\": \"Intel Core i7\",\n",
            "    \"Clock speed\": \"2.8GHz\",\n",
            "    \"Budget\": \"95,000\"\n",
            "}\n",
            "{\n",
            "    \"Brand\": \"Dell\",\n",
            "    \"Model Name\": \"Precision 5550\",\n",
            "    \"GPU processor\": \"NVIDIA\",\n",
            "    \"Display Resolution\": \"3840x2160\",\n",
            "    \"Weight\": \"1.83kg\",\n",
            "    \"Processor\": \"Intel\",\n",
            "    \"Clock speed\": \"2.6GHz\",\n",
            "    \"Budget\": 250000\n",
            "}\n",
            "{\n",
            "    \"Brand\": \"HP\",\n",
            "    \"Model Name\": \"ENVY x360\",\n",
            "    \"GPU processor\": \"Iris Xe\",\n",
            "    \"Display Resolution\": \"1920x1080\",\n",
            "    \"Weight\": \"2.05kg\",\n",
            "    \"Processor\": \"Core i7\",\n",
            "    \"Clock speed\": \"2.8GHz\",\n",
            "    \"Budget\": \"80,000\"\n",
            "}\n",
            "{\n",
            "    \"Brand\": \"Razer\",\n",
            "    \"Model Name\": \"Blade 15\",\n",
            "    \"GPU processor\": \"NVIDIA\",\n",
            "    \"Display Resolution\": \"1920x1080\",\n",
            "    \"Weight\": \"2.09kg\",\n",
            "    \"Processor\": \"Intel\",\n",
            "    \"Clock speed\": \"2.6GHz\",\n",
            "    \"Budget\": \"150000\"\n",
            "}\n",
            "{\n",
            "    \"Brand\": \"Apple\",\n",
            "    \"Model Name\": \"MacBook Pro\",\n",
            "    \"GPU processor\": \"AMD\",\n",
            "    \"Display Resolution\": \"3072x1920\",\n",
            "    \"Weight\": \"2.02kg\",\n",
            "    \"Processor\": \"Intel\",\n",
            "    \"Clock speed\": \"2.9GHz\",\n",
            "    \"Budget\": \"280000\"\n",
            "}\n"
          ]
        }
      ]
    },
    {
      "cell_type": "markdown",
      "source": [
        "If you are feeling confident, you can try to attempt another task: Find the best laptop for a particular task.\n",
        "<br>\n",
        "The user can, for example, ask for a laptop which is best for gaming, and the model can refer to the list we generated above to give the best laptop for gaming.\n",
        "<br>\n",
        "However, a hard task will be to make the model strictly follow the given list. Many times the model can answer from its pre training dataset."
      ],
      "metadata": {
        "id": "IHopZqfZhrAg"
      }
    },
    {
      "cell_type": "code",
      "source": [
        "# We suggest converting the list to a string first to avoid the extra step of iterating over the list to input in the prompt\n",
        "# We have to convert the list to a string for convenience in the next part\n",
        "string = ''\n",
        "for i in range(len(values)):\n",
        "  string = string + values[i] + \"\\n\"\n",
        "\n",
        "# Giving the property values as input to system\n",
        "\n",
        "SYSTEM_PROMPT = '''{props} \\n This is a list of laptops and their properties. Strictly adhere to the given list only and output the product name only if found in the list.\n",
        "\\n The user will ask for the best suited laptop for a task, your job is to find out a laptop which is the best fit for the task. Use these to undestand which laptops can work with the required task:\n",
        "Categories:\n",
        "[\n",
        "    'general': 'For general purpose use such as light web browsing, editing documents etc.'\n",
        "    'business': 'For business users, the focus is on portability, battery backup and general purpose use.'\n",
        "    'gamer': 'For gamers, the focus is primarily on high-performance, high-end graphics requirement, efficient processor etc.'\n",
        "    'programmer': 'For programmers, the focus is on performance, battery backup, high-end RAM etc.'\n",
        "    'multimedia': 'For multimedia use cases, the requirements are a good quality/ high resolution display, wide screens, good audio and video quality, battery backup, efficiency etc.' # Write the prompt here\n",
        "] \\n\n",
        " If you do not find any relevant information in the laptop list, please answer \"not found\".\n",
        "'''.format(props = 'string')\n",
        "\n",
        "user_request = 'From the list of laptops in your system prompt, which is the best laptop for watching movies?'\n",
        "\n",
        "def get_chat_response(sys_msg, user_request):\n",
        "\n",
        "  MODEL = 'gpt-3.5-turbo-1106'# Define GPT model\n",
        "\n",
        "\n",
        "  try:\n",
        "  # Define the list of messages\n",
        "    messages = [\n",
        "        {'role': 'system', 'content': sys_msg},\n",
        "        {'role': 'user', 'content': user_request}\n",
        "    ]\n",
        "\n",
        "# Get the ChatCompletion Response from the GPT-3.5 model\n",
        "    response = openai.chat.completions.create(\n",
        "        model = MODEL,\n",
        "        messages = messages\n",
        "    )\n",
        "\n",
        "    response_content = response.choices[0].message.content\n",
        "    # Parse the response_content from the message\n",
        "\n",
        "    return response_content\n",
        "\n",
        "  # Raise exception error\n",
        "  except Exception as e:\n",
        "    print(f\"An error occurred: {e}\")\n",
        "    return None\n"
      ],
      "metadata": {
        "id": "g-mAfds_MrKl"
      },
      "execution_count": 24,
      "outputs": []
    },
    {
      "cell_type": "code",
      "source": [
        "len(values)"
      ],
      "metadata": {
        "colab": {
          "base_uri": "https://localhost:8080/"
        },
        "id": "OZi7mfZhgE_k",
        "outputId": "d12e2afe-122d-4937-ff0f-c93a5945023c"
      },
      "execution_count": 23,
      "outputs": [
        {
          "output_type": "execute_result",
          "data": {
            "text/plain": [
              "20"
            ]
          },
          "metadata": {},
          "execution_count": 23
        }
      ]
    },
    {
      "cell_type": "code",
      "source": [
        "print(get_chat_response(SYSTEM_PROMPT, user_request))"
      ],
      "metadata": {
        "colab": {
          "base_uri": "https://localhost:8080/"
        },
        "id": "8oVNNrhKgfx9",
        "outputId": "a670219d-36f9-4c31-e243-8b8b01a64e59"
      },
      "execution_count": 25,
      "outputs": [
        {
          "output_type": "stream",
          "name": "stdout",
          "text": [
            "- Lenovo Legion 7i: multimedia\n"
          ]
        }
      ]
    },
    {
      "cell_type": "markdown",
      "source": [
        "# <font color='RED' >MCQ 3\n",
        "**NOTE:** Do not modify</font>\n",
        "<br>\n",
        "\n",
        "Build a Question & Answering (Q&A) system by using wikipedia for extracting the relevant context and relaying the information to the user."
      ],
      "metadata": {
        "id": "mLre7e5yY_-s"
      }
    },
    {
      "cell_type": "markdown",
      "source": [
        "The sequencd of steps is detailed below with the expected output from each function being called:\n",
        "\n",
        "1. The user inputs the query \"How tall is the Eiffel Tower?\"\n",
        "\n",
        "2. The first LLM function will identify the subject of the user's query and extract the relevant search term for querying through Wikipedia. In this case, the subject of the user's query is 'Eiffel Tower'.\n",
        "\n",
        "3. The  function `wiki_search` (that has already been defined) will search wikipedia for the provided `query_term` and return the wikipedia article.\n",
        "In this case the function will search wikipedia for the term 'Eiffel Tower' and return the wikipedia content on `Eiffel Tower`\n",
        "\n",
        "4. The third function will pass the wikipedia content along with the user's original query to return the answer to the query.\n",
        "\n",
        "In this case, the third function `user_answer` uses the Wikipedia content and the original user query to return the following output: Eiffel Tower is 300 meters tall.\n",
        "\n",
        "**NOTE**: Make sure to give only the Wikipedia content as context to the model in the third function `user_answer`.\n",
        "(Hint - You can give the content to user by attaching it to the user_request input to the function)"
      ],
      "metadata": {
        "id": "xpaPrqJilr3z"
      }
    },
    {
      "cell_type": "markdown",
      "source": [
        "![image.png](data:image/png;base64,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)"
      ],
      "metadata": {
        "id": "vTpKxlFzzbyg"
      }
    },
    {
      "cell_type": "code",
      "source": [
        "!pip install -q -U wikipedia-api\n",
        "import wikipediaapi"
      ],
      "metadata": {
        "colab": {
          "base_uri": "https://localhost:8080/"
        },
        "id": "XiAd4NZNhESt",
        "outputId": "e6698ed6-5d99-46b8-cd34-287ee3fee219"
      },
      "execution_count": 26,
      "outputs": [
        {
          "output_type": "stream",
          "name": "stdout",
          "text": [
            "  Preparing metadata (setup.py) ... \u001b[?25l\u001b[?25hdone\n",
            "  Building wheel for wikipedia-api (setup.py) ... \u001b[?25l\u001b[?25hdone\n"
          ]
        }
      ]
    },
    {
      "cell_type": "code",
      "source": [
        "######## DO NOT MODIFY ########\n",
        "# @title DO NOT MODIFY - Install the Wikipedia Library\n",
        "# Install wikipedia library\n",
        "!pip install -qq -U wikipedia-api\n",
        "import wikipediaapi"
      ],
      "metadata": {
        "id": "Kt2kQoBgZlME",
        "cellView": "form"
      },
      "execution_count": null,
      "outputs": []
    },
    {
      "cell_type": "code",
      "source": [
        "######## DO NOT MODIFY ########\n",
        "# @title DO NOT MODIFY - Wikipedia Search Function\n",
        "# Function to search Wikipedia for the user's search query and then return the content\n",
        "\n",
        "# Importing necessary libraries\n",
        "\n",
        "import wikipediaapi\n",
        "\n",
        "# Define a function named wiki_search that takes a query term as input, you will be needing this function later on.\n",
        "def wiki_search(query_term):\n",
        "    \"\"\"\n",
        "    Search Wikipedia for the user's search query and return the content.\n",
        "\n",
        "    Args:\n",
        "    - query_term (str): The search term or query to look up on Wikipedia.\n",
        "\n",
        "    Returns:\n",
        "    - str: The content retrieved from the Wikipedia page corresponding to the query term.\n",
        "    \"\"\"\n",
        "\n",
        "    # Set the Wikipedia user-agent header\n",
        "    string = \"SearchQuery/1.0 (upGrad;)\"\n",
        "\n",
        "    # Create a Wikipedia API object with the specified user agent and language\n",
        "    wiki_wiki = wikipediaapi.Wikipedia(user_agent=string, language='en')\n",
        "\n",
        "    # Use the Wikipedia API to get the page corresponding to the query term\n",
        "    page = wiki_wiki.page(query_term)\n",
        "\n",
        "    # Extract the text content of the Wikipedia page\n",
        "    content = page.text\n",
        "\n",
        "    # Return the retrieved content from the Wikipedia page\n",
        "    return content"
      ],
      "metadata": {
        "id": "E405TQSsbRqZ"
      },
      "execution_count": 28,
      "outputs": []
    },
    {
      "cell_type": "code",
      "source": [
        "# Let's test the Wikipedia API Library\n",
        "example_resp = wiki_search('President of India')\n",
        "example_resp"
      ],
      "metadata": {
        "colab": {
          "base_uri": "https://localhost:8080/",
          "height": 140
        },
        "id": "m1d1W6mOLXdb",
        "outputId": "f38e21fd-f4ea-4e55-990d-0a608dddffa3"
      },
      "execution_count": 29,
      "outputs": [
        {
          "output_type": "execute_result",
          "data": {
            "text/plain": [
              "'The president of India  (ISO: Bhārata kē Rāṣṭrapati) is the head of state of the Republic of India. The president is the nominal head of the executive, the first citizen of the country, as well as the supreme commander of the Indian Armed Forces. Droupadi Murmu is the 15th and current president, having taken office from 25 July 2022.\\nThe office of president was created when India became a republic on 26 January 1950 when its constitution came into force. The president is indirectly elected by an electoral college comprising both houses of the Parliament of India and the legislative assemblies of each of India\\'s states and territories, who themselves are all directly elected by the citizens.\\nArticle 53 of the Constitution of India states that the president can exercise their powers directly or by subordinate authority, though all of the executive powers vested in the president are, in practice, exercised by the prime minister heading the Council of Ministers. The president is bound by the constitution to act on the advice of the council and to enforce the decrees passed by the Supreme Court under article 142.\\n\\nOrigin\\nIndia achieved independence from the British on 15 August 1947, initially as a dominion within the Commonwealth of Nations with George VI as king, represented in the country by a governor-general. Following independence, the Constituent Assembly of India, under the leadership of B. R. Ambedkar, undertook the process of drafting a completely new constitution for the country. The Constitution of India was eventually enacted on 26 November 1949 and came into force on 26 January 1950,:\\u200a26\\u200a making India a republic.:\\u200a9\\u200a The offices of monarch and governor-general were replaced by the new office of President of India, with Rajendra Prasad as its first incumbent.:\\u200a1\\u200a India retained its Commonwealth membership per the London Declaration, recognising The King as \"the symbol of the free association of its independent member nations and as such the Head of the Commonwealth.\"\\nThe Indian constitution accords to the president the responsibility and authority to defend and protect the Constitution of India and its rule of law. Invariably, any action taken by the executive or legislature entities of the constitution shall become law only after the president\\'s assent. The president shall not accept any actions of the executive or legislature which are unconstitutional. The president is the foremost, most empowered and prompt defender of the constitution (Article 60), who has pre-emptive power for ensuring constitutionality in the actions of the executive or legislature. The role of the judiciary in upholding the Constitution of India is the second line of defence in nullifying any unconstitutional actions of the executive and legislative entities of the Indian Union.\\n\\nPowers and duties\\nUnder the draft constitution the President occupies the same position as the King under the English Constitution. He is the head of the state but not of the Executive. He represents the Nation but does not rule the Nation. He is the symbol of the Nation. His place in the administration is that of a ceremonial device on a seal by which the nation\\'s decisions are made known.\\n\\nDuty\\nThe primary duty of the president is to preserve, protect and defend the constitution and the law of India as made part of their oath (Article 60 of Indian constitution). The president is the common head of all independent constitutional entities. All their actions, recommendations (Article 3, Article 111, Article 274, etc.) and supervisory powers (Article 74(2), Article 78C, Article 108, Article 111, etc.) over the executive and legislative entities of India shall be used in accordance to uphold the constitution. There is no bar on the actions of the president to contest in the court of law.\\n\\nLegislative powers\\nLegislative power is constitutionally vested in the Parliament of India of which the president is the head, to facilitate the lawmaking process per the constitution (Article 78, Article 86, etc.). The president summons both the houses (Lok Sabha and Rajya Sabha) of the parliament and prorogues them. They can dissolve the Lok Sabha.:\\u200a147\\u200a\\nThe president inaugurates parliament by addressing it after the general elections and also at the beginning of the first session every year per Article 87(1). The presidential address on these occasions is generally meant to outline the new policies of the government.:\\u200a145\\u200a\\nAll bills passed by the parliament can become laws only after receiving the assent of the president per Article 111. After a bill is presented to them, the president shall declare either that they assent to the Bill, or that they withhold assent from it.  As a third option, they can return a bill to parliament, if it is not a money bill, for reconsideration. President may be of the view that a particular bill passed under the legislative powers of parliament is violating the constitution, they can send back the bill with their recommendation to pass the bill under the constituent powers of parliament following the Article 368 procedure. When, after reconsideration, the bill is passed accordingly and presented to the president, with or without amendments, the president cannot withhold their assent from it. The president can also withhold their assent to a bill when it is initially presented to them (rather than return it to parliament) thereby exercising a pocket veto on the advice of the prime minister or council of ministers per Article 74 if it is inconsistent with the constitution. Article 143 gives the president the power to consult the supreme court about the constitutional validity of an issue. The president shall assent to constitutional amendment bills without power to withhold the bills per Article 368 (2).\\nWhen either of the two Houses of the Parliament of India is not in session, and if the government feels the need for an immediate procedure, the president can promulgate ordinances that have the same force and effect as an act passed by parliament under its legislative powers. These are in the nature of interim or temporary legislation and their continuance is subject to parliamentary approval. Ordinances remain valid for no more than six weeks from the date the parliament is convened unless approved by it earlier. Under Article 123, the president as the upholder of the constitution shall be satisfied that immediate action is mandatory as advised by the union cabinet and they are confident that the government commands majority support in the parliament needed for the passing of the ordinance into an act and parliament can be summoned to deliberate on the passing of the ordinance as soon as possible. The promulgated ordinance is treated as an act of parliament when in force and it is the responsibility of the president to withdraw the ordinance as soon as the reasons for the promulgation of the ordinance are no longer applicable. Bringing laws in the form of ordinances has become a routine matter by the government and president, but the provisions made in Article 123 are meant for mitigating unusual circumstances where immediate action is inevitable when the extant provisions of the law are inadequate. Re-promulgation of an ordinance after failing to get approval within the stipulated time of both houses of parliament is an unconstitutional act by the president. The president should not incorporate any matter in an ordinance which violates the constitution or requires an amendment to the constitution. The president should take moral responsibility when an ordinance elapses automatically or is not approved by the parliament or violates the constitution. Thus, it is believed that the POI is the de jure head of the state, whereas PM is the de facto head.\\n\\nExecutive powers\\nThe President of the Indian Union will be generally bound by the advice of his Ministers. ... He can do nothing contrary to their advice nor can do anything without their advice. The President of the United States can dismiss any Secretary at any time. The President of the Indian Union has no power to do so, so long as his Ministers command a majority in Parliament\\n\\nAs per Article 53, the executive power of the country is vested in the president and is exercised by the president either directly or through officers subordinate to him in accordance with the constitution. When parliament thinks fit it may accord additional executive powers to the president per Article 70 which may be further delegated by the president to the governors of states per Article 160. Union cabinet with prime minister as its head, should aid and advise the president in performing their functions. Per Article 74 (2), the council of ministers or prime minister are not accountable legally to the advice tendered to the president but it is the sole responsibility of the president to ensure compliance with the constitution in performing their duties. President or their subordinate officers is bound by the provisions of the constitution notwithstanding any advice by the union cabinet.\\nAs per Article 142, it is the duty of the president to enforce the decrees of the supreme court.\\n\\nJudicial powers\\nThe primary duty of the president is to preserve, protect and defend the constitution and the law of India per Article 60. The president appoints the Chief Justice of India and other judges on the advice of the chief justice. The President may dismiss a judge with a two-thirds vote of the two Houses of the parliament.\\nThe Indian government\\'s chief legal adviser, Attorney-General for India, is appointed by the president of India under Article 76(1) and holds office during the pleasure of the president. If the president considers a question of law or a matter of public importance has arisen, they can also ask for the advisory opinion of the supreme court per Article 143. Per Article 88, the president can ask the attorney general to attend the parliamentary proceedings and report to him any unlawful functioning if any.\\n\\nAppointment powers\\nThe president appoints as prime minister, the person most likely to command the support of the majority in the Lok Sabha (usually the leader of the majority party or coalition). The president then appoints the other members of the Council of Ministers, distributing portfolios to them on the advice of the prime minister.:\\u200a72\\u200a The Council of Ministers remains in power at the \\'pleasure\\' of the president.\\nThe president appoints 12 members of the Rajya Sabha from amongst persons who have special knowledge or practical experience in respect of such matters as literature, science, art and social service. The president may nominate not more than two members of Anglo Indian community as Lok Sabha members per Article 331, which was removed in 2019.\\nGovernors of states are also appointed by the president who shall work at the pleasure of the president. Per Article 156, the president is empowered to dismiss a governor who has violated the constitution in their acts.\\nThe president is responsible for making a wide variety of appointments. These include::\\u200a72\\u200a\\n\\nThe Chief Justice of India and other judges of the Supreme Court of India and state/union territory high courts.\\nThe Chief Minister of the National Capital Territory of Delhi (Article 239 AA 5 of the constitution).\\nThe Comptroller and Auditor General Of India.\\nThe Chief Election Commissioner and other Election Commissioners.\\nThe chairman and other members of the Union Public Service Commission.\\nThe Attorney General Of India.\\nAmbassadors and High Commissioners to other countries (only through the list of names given by the prime minister).:\\u200a48\\u200a\\nOfficers of the All India Services (IAS, IPS and IFoS), and other Central Civil Services in Group \\'A\\'.\\n\\nFinancial powers\\nA financial bill can be introduced in the parliament only with the president\\'s recommendation.\\nThe president lays the Annual Financial Statement, i.e. the Union budget, before the parliament.\\nThe president can take advances out of the Contingency Fund of India to meet unforeseen expenses.\\nThe president constitutes a Finance Commission every five years to recommend the distribution of the taxes between the centre and the States. The most recent was constituted in 2017.\\n\\nDiplomatic powers\\nAll international treaties and agreements are negotiated and concluded on behalf of the president.:\\u200a18\\u200a However, in practice, such negotiations are usually carried out by the prime minister along with their Cabinet (especially the Minister of External Affairs). Also, such treaties are subject to the approval of the parliament. The president represents India in international forums and affairs where such a function is chiefly ceremonial. The president may also send and receive diplomats, i.e. the officers from the Indian Foreign Service.:\\u200a143\\u200a The president is the first citizen of the country.\\n\\nMilitary powers\\nThe president is the Supreme Commander of the Indian Armed Forces. Only the president can declare war or conclude peace, on the advice of the Union Council of Ministers headed by the prime minister. All important treaties and contracts are made in the president\\'s name.\\n\\nPardoning powers\\nAs mentioned in Article 72 of the Indian constitution, the president is empowered with the powers to grant pardons in the following situations:\\n\\npunishment for an offence against Union law\\npunishment by a military court\\na death sentence\\nThe decisions involving pardoning and other rights by the president are independent of the opinion of the prime minister or the Lok Sabha majority. In most cases, however, the president exercises their executive powers on the advice of the prime minister and the cabinet.:\\u200a239\\n\\nEmergency powers\\nThe president can declare three types of emergencies: national, state and financial, under articles 352, 356 & 360 in addition to promulgating ordinances under article 123.:\\u200a12\\n\\nNational emergency\\nA national emergency can be declared in the whole of India or a part of its territory for causes of war or armed rebellion or an external aggression. Such an emergency was declared in India in 1962 (Indo-China war), 1971 (Indo-Pakistan war), and 1975 to 1977 (declared by Indira Gandhi).[see main]\\nUnder Article 352 of the India constitution, the president can declare such an emergency only on the basis of a written request by the cabinet of ministers headed by the prime minister. Such a proclamation must be approved by the parliament with at least a two-thirds majority within one month. Such an emergency can be imposed for six months. It can be extended by six months by repeated parliamentary approval-there is no maximum duration.\\nIn such an emergency, Fundamental Rights of Indian citizens can be suspended.:\\u200a33\\u200a The six freedoms under Right to Freedom are automatically suspended. However, the Right to Life and Personal Liberty cannot be suspended (Article 21).:\\u200a20.6\\u200a\\nThe president can make laws on the 66 subjects of the State List (which contains subjects on which the state governments can make laws). Also, all money bills are referred to the president for approval.:\\u200a88\\u200a The term of the Lok Sabha can be extended by a period of up to one year, but not so as to extend the term of parliament beyond six months after the end of the declared emergency.:\\u200a223\\u200a\\nNational Emergency has been proclaimed 3 times in India to date. It was declared first in 1962 by President Sarvepalli Radhakrishnan, during the Sino-Indian War. This emergency lasted through the Indo-Pakistani War of 1965 and up to 1968. It was revoked in 1968. The second emergency in India was proclaimed in 1971 by President V. V. Giri on the eve of the Indo-Pakistani War of 1971. The first two emergencies were in the face of external aggression and War. They were hence external emergencies. Even as the second emergency was in progress, another internal emergency was proclaimed by President Fakhruddin Ali Ahmed, with Indira Gandhi as prime minister in 1975. In 1977, the second and the third emergencies were together revoked.\\n\\nState emergency\\nIf the president is not fully satisfied, on the basis of the report of the governor of the concerned state or from other sources, that the governance in a state cannot be carried out according to the provisions in the constitution, they can proclaim under Article 356 a state of emergency in the state. Such an emergency must be approved by the parliament within a period of 2 months.\\nUnder Article 356 of the Indian constitution, it can be imposed from six months to a maximum period of three years with repeated parliamentary approval every six months. If the emergency needs to be extended for more than three years, this can be achieved by a constitutional amendment, as has happened in Punjab and Jammu and Kashmir.\\nDuring such an emergency, the president can take over the entire work of the executive, and the governor administers the state in the name of the president. The Legislative Assembly can be dissolved or may remain in suspended animation. The parliament makes laws on the 66 subjects of the state list (see National emergency for explanation).\\nA State Emergency can be imposed via the following:\\n\\nBy Article 356 – If that state failed to run constitutionally, i.e. constitutional machinery has failed. When a state emergency is imposed under this provision, the state is said to be under \"President\\'s rule.:\\u200a159\\u200a\\nBy Article 365 – If that state is not working according to the direction of the Union government issued per the provisions of the constitution.\\nThis type of emergency needs the approval of the parliament within 2 months. It can last up to a maximum of three years via extensions after each 6-month period. However, after one year it can be extended only if\\n\\nA state of National Emergency has been declared in the country or the particular state.\\nThe Election Commission finds it difficult to organise an election in that state.\\nThe Sarkaria Commission held that presidents have unconstitutionally misused the provision of Article 356 many times for achieving political motives, by dismissing the state governments although there was no constitutional break down in the states. During 2005, President\\'s rule was imposed in Bihar state, misusing Article 356 unconstitutionally to prevent the democratically elected state legislators to form a government after the state elections.\\nThere is no provision in the constitution to re-promulgate president\\'s rule in a state when the earlier promulgation ceased to operate for want of parliaments approval within two months duration. During 2014 in Andhra Pradesh, president\\'s rule was first imposed on 1 March 2014 and it ceased to operate on 30 April 2014. President\\'s rule was promulgated after being fully aware that the earliest parliament session is feasible at the end of May 2014 after the general elections. It was reimposed again unconstitutionally on 28 April 2014 by the president.\\n\\nFinancial emergency\\nArticle 282 accords financial autonomy in spending the financial resources available with the states for public purposes. Article 293 gives liberty to states to borrow without any limit to its ability for its requirements within the territory of India without any consent from the Union government. However, the Union government can insist on compliance with its loan terms when a state has an outstanding loan charged to the consolidated fund of India or an outstanding loan in respect of which a guarantee has been given by the Government of India under the liability of consolidated fund of India.\\nUnder article 360 of the constitution, the president can proclaim a financial emergency when the financial stability or credit of the nation or any part of its territory is threatened. However, until now no guidelines defining the situation of financial emergency in the entire country or a state or union territory or a panchayat or a municipality or a corporation have been framed either by the finance commission or by the central government.\\nSuch an emergency must be approved by the parliament within two months by a simple majority. It has never been declared.:\\u200a604\\u200a A state of financial emergency remains in force indefinitely until revoked by the president.:\\u200a195\\u200a\\nThe president can reduce the salaries of all government officials, including judges of the supreme court and high courts, in cases of a financial emergency. All money bills passed by state legislatures are submitted to the president for approval. They can direct the state to observe certain principles (economy measures) relating to financial matters.\\n\\nSelection process\\nEligibility\\nArticle 58 of the constitution sets the principal qualifications one must meet to be eligible to the office of the president. A president must be:\\n\\na citizen of India\\nof 35 years of age or above\\nqualified to become a member of the Lok Sabha\\nA person shall not be eligible for election as president if they hold any office of profit under the Government of India or the Government of any State or any local or other authority subject to the control of any of the said Governments.\\nCertain office-holders, however, are permitted to stand as presidential candidates. These are:\\n\\nThe current Vice President\\nThe governor of any state\\nA Minister of the Union or of any state (including prime minister and chief ministers):\\u200a72\\u200a\\nIn the event that the vice president, a state governor or a minister is elected president, they are considered to have vacated their previous office on the date they begin serving as president.\\nA member of parliament or a State Legislature can seek election to the office of the president but if they are elected as president, they shall be deemed to have vacated their seat in parliament or State Legislature on the date on which they enter upon their office as President [Article 59(1)].\\nArticle 57 provides that a person who holds, or who has held, office as president shall, subject to the other provisions of this constitution, be eligible for re-election to that office.\\nUnder the Presidential and Vice-Presidential Elections Act, 1952, a candidate to be nominated for the office of president needs 50 electors as proposers and 50 electors as seconders for their name to appear on the ballot.\\n\\nTime of election\\nArticle 56(1) of the constitution provides that the president shall hold office for a term of five years, from the date on which they enter their office. According to Article 62, an election to fill a vacancy caused by the expiration of the term of office of President shall be completed before the expiration of the term. An election to fill a vacancy in the office of President occurring by reason of their death, resignation or removal, or otherwise shall be held as soon as possible after, and in no case later than six months from, the date of occurrence of the vacancy; and the person elected to fill the vacancy shall, subject to the provisions of Article 56, be entitled to hold office for the full term of five years from the date on which they enter their office.\\nTo meet the contingency of an election to the office of President not being completed in time due to unforeseen circumstances like countermanding of an election due to death of a candidate or on account of the postponement of the poll for any valid reason, Article 56(1)(c) provides that the president shall, notwithstanding the expiration of their term, continue to hold office until their successor enters into office.\\n\\nConditions for the presidency\\nCertain conditions, per Article 59 of the Indian constitution, debar an otherwise eligible citizen from contesting the presidential elections. The conditions are:\\n\\nThe president shall not be a member of either house of the parliament or a house of the legislature of any state, and if a member of either house of the parliament or a house of the legislature of any state is elected president, they shall be deemed to have vacated their seat in that house on the date on which they enter into office as president.\\nThe president shall not hold any other office of profit.\\nThe president shall be entitled without payment of rent to the use of their official residences and shall be also entitled to such emoluments, allowances and privileges as may be determined by parliament by law and until provision in that behalf is so made, such emoluments, allowances and privileges as are specified in the Second Schedule.\\nThe emoluments and allowances of the president shall not be diminished during their term of office.:\\u200a170\\n\\nElection process\\nWhenever the office becomes vacant, the new president is chosen by an electoral college consisting of the elected members of both houses of parliament (MPs), the elected members of the State Legislative Assemblies (Vidhan Sabha) of all States and the elected members of the legislative assemblies (MLAs) of union territories with legislatures, i.e., National Capital Territory (NCT) of Delhi, Jammu and Kashmir and Puducherry. The election process of the president is a more extensive process than of the prime minister who is also elected indirectly (elected by the members of the majority party (or union) in the Lok Sabha). Whereas President being the constitutional head with duties to protect, defend and preserve the constitution and rule of law in a constitutional democracy with constitutional supremacy, is elected in an extensive manner by the members of Lok Sabha, Rajya Sabha and state legislative assemblies in a secret ballot procedure.\\nThe nomination of a candidate for election to the office of the president must be subscribed by at least 50 electors as proposers and 50 electors as seconders. Each candidate has to make a security deposit of ₹15,000 (US$180) in the Reserve Bank of India. The security deposit is liable to be forfeited in case the candidate fails to secure one-sixth of the votes polled.\\nThe election is held by means of the instant-runoff voting (IRV) method. The voting takes place by a secret ballot system. The manner of election of President is provided by Article 55 of the constitution.\\nEach elector casts a different number of votes. The general principle is that the total number of votes cast by Members of parliament equals the total number of votes cast by State Legislators. Also, legislators from larger states cast more votes than those from smaller states. Finally, the number of legislators in state matters; if a state has few legislators, then each legislator has more votes; if a state has many legislators, then each legislator has fewer votes.\\nThe actual calculation for votes cast by a particular state is calculated by dividing the state\\'s population by 1000, which is divided again by the number of legislators from the State voting in the electoral college. This number is the number of votes per legislator in a given state. Every elected member of the parliament enjoys the same number of votes, which may be obtained by dividing the total number of votes assigned to the members of legislative assemblies by the total number of elected representatives of the parliament.\\nAlthough Indian presidential elections involve actual voting by MPs and MLAs, they tend to vote for the candidate supported by their respective parties.\\n\\nOath or affirmation\\nThe president is required to make and subscribe in the presence of the Chief Justice of India—or in their absence, the senior-most judge of the supreme court—an oath or affirmation to protect, preserve and defend the constitution as follows:\\n\\nI, (name), do swear in the name of God (or solemnly affirm) that I will faithfully execute the office of President (or discharge the functions of the President) of the Republic of India, and will to the best of my ability preserve, protect and defend the Constitution and the law, and that I will devote myself to the service and well-being of the people of the Republic of India.\\n\\nEmoluments\\nThe president of India used to receive ₹10,000 (US$100) per month per the Second Schedule of the constitution.  This amount was increased to ₹50,000 (equivalent to ₹230,000 or US$2,600 in 2023) in 1998. On 11 September 2008, the Government of India increased the salary of the president to ₹1.5 lakh (equivalent to ₹4.2 lakh or US$4,900 in 2023). This amount was further increased to ₹5 lakh (equivalent to ₹6.7 lakh or US$7,800 in 2023) in the 2018 Union budget of India. However, almost everything that the president does or wants to do is taken care of by an annual ₹225 million (equivalent to ₹630 million or US$7.3 million in 2023) budget that the Government allots for their upkeep. Rashtrapati Bhavan, the president\\'s official residence, is the largest Presidential palace in the world. The Rashtrapati Nilayam at Bolarum, Hyderabad and Retreat Building at Chharabra, Shimla are the official Retreat Residences of the president of India. The official state car of the president is a custom-built heavily armored Mercedes Benz S600 (W221) Pullman Guard.\\nThe former presidents and widows and widowers of presidents are eligible for pension, furnished accommodation, security, various allowances, etc.\\n\\n\\tPresidential amenities\\n\\nImpeachment\\nThe Supreme Court shall inquire and decide regarding all doubts and disputes arising out of or in connection with the election of a president per Article 71(1) of the constitution. The Supreme Court can remove the president for the electoral malpractices or upon being not eligible to be a member of the Lok Sabha under the Representation of the People Act, 1951. Subject to Article 71 (3), parliament made applicable rules/procedure to petition the supreme court for resolving the disputes only that arise during the election process of the president but not the doubts that arise from their unconstitutional actions/deeds or changing Indian citizenship during the tenure of the president which may violate the requisite election qualifications.\\nThe president may also be removed before the expiry of the term through impeachment for violating the Constitution of India by the Parliament of India. The process may start in either of the two houses of the parliament. The house initiates the process by levelling the charges against the president. The charges are contained in a notice that has to be signed by at least one-quarter of the total members of that house. The notice is sent up to the president and 14 days later, it is taken up for consideration.\\nA resolution to impeach the president has to be passed by a two-thirds majority of the total number of members of the originating house. It is then sent to the other house. The other house investigates the charges that have been made. During this process, the president has the right to defend himself through an authorised counsel. If the second house also approves the charges made by the special majority again, the president stands impeached and is deemed to have vacated their office from the date when such a resolution stands passed. No president has faced impeachment proceedings so the above provisions have never been used.\\nUnder Article 361 of the constitution, though the president cannot be summoned for questioning except on their voluntary willingness to testify in the court in support of their controversial deeds, the unconstitutional decisions taken by the president would be declared invalid by the courts. The case would be decided by the courts based on the facts furnished by the Union government for the president\\'s role. As clarified by the supreme court in the case Rameshwar Prasad & Others vs Union of India & An Other on 24 January 2006; though the president cannot be prosecuted and imprisoned during their term of office, they can be prosecuted after he/she steps down from the post for any guilt committed during the term of the presidency as declared earlier by the courts. No president has resigned on impropriety to continue in office for declaring and nullifying their unconstitutional decisions by the courts till now. No criminal case at least on the grounds of disrespecting constitution is lodged till now against former presidents to punish them for their unconstitutional acts; though many decisions taken during the term of a president have been declared by the supreme court as unconstitutional, mala fides, void, ultra vires, etc.\\n\\nSuccession\\nThe Office of the president falls vacant in the following scenarios:\\n\\nOn the expiry of their term.\\nBy reason of death.\\nBy reason of resignation.\\nRemoval by impeachment.\\nArticle 65 of the Indian constitution says that the Vice-President of India will have to discharge the duties, if the office falls vacant due to any reason other than the expiry of the term.:\\u200a20.10\\u200a The vice president reverts to their office when a new president is elected and enters office. When the president is unable to act because of absence, illness or any other cause, the vice president discharges the president\\'s functions until the president resumes the duties.\\nA vice president who acts as or discharges the functions of the president has all the powers and immunities of the president and is entitled to the same emoluments as the president. When a vice president discharges the duties of the president, he/she does not function as the Chairperson of the Rajya Sabha.\\nThe Indian parliament has enacted the law—The President (Discharge of Functions) Act, 1969 — for the discharge of the functions of the president when vacancies occur in the offices of the president and the vice president simultaneously, owing to removal, death, resignation of the incumbent or otherwise. In such an eventuality, the chief justice—or in their absence, the senior-most judge of the Supreme Court of India available—discharges the functions of the president until a newly elected president enters upon their office or a newly elected vice president begins to act as president under Article 65 of the constitution, whichever is the earlier.:\\u200a96\\u200a For example, in 1969, when President Zakir Husain died in Office, Vice-President V. V. Giri served as the acting president of India. However, later, V.V Giri resigned from both posts (Acting President of India and Vice-President of India) as he became a candidate in the 1969 presidential election in India. In this event, the then Chief Justice of India, Justice Mohammad Hidayatullah served as the acting president of India until the next president was elected.\\n\\nPresident vs Chief Justice\\nPresident vs Prime minister\\nImportant presidential interventions in the past\\nThe president\\'s role as defender of the constitution and the powers as Head of State, especially in relation to those exercised by the prime minister as leader of the government, have changed over time. In particular, Presidents have made a number of interventions into government and lawmaking, which have established and challenged some conventions concerning presidential intervention.\\n\\nProving majority in the parliament\\nIn 1979, Prime Minister Charan Singh, did not enjoy a parliamentary majority. He responded to this by simply not advising the president to summon parliament. Since then, presidents have been more diligent in directing incoming Prime Ministers to convene parliament and prove their majority within reasonable deadlines (2 to 3 weeks). In the interim period, the Prime Ministers are generally restrained from making policy decisions.\\n\\nProof of Majority to form a Government\\nSince the 1990s, Parliamentary elections have generally not resulted in a single party or group of parties having a distinct majority, until the 2014 Lok Sabha elections when BJP received a clear majority. In such cases, presidents have used their discretion and directed Prime Ministerial aspirants to establish their credentials before being invited to form the government. Typically, the aspirants have been asked to produce letters from various party leaders, with the signatures of all the MPs who are pledging support to their candidature. This is in addition to the requirement that a prime minister proves he has the support of the Lok Sabha (by a vote on the floor of the house) within weeks of being sworn into office.\\n\\nVetoing of a Bill\\nSince the Indian constitution does not provide any time limit within which the president is to declare their assent or refusal, the president could exercise a \"pocket veto\" by not taking any action for an indefinite time. The veto was used in 1986 by President Zail Singh over the Postal Bill. The president did not give assent to the bill, arguing that its scope was too sweeping and would give the government arbitrary powers to intercept postal communications indiscriminately.\\n\\nRashtrapati Bhavan Communiqués\\nIn the late 1990s, President K. R. Narayanan introduced a modicum of transparency and openness in the functioning of the President. This was by means of Rashtrapati Bhavan Communiqués explaining, to the nation, the thinking that led to the various decisions he took while exercising their discretionary powers.\\n\\nReturn of a Bill\\nThe constitution gives the president the power to return a bill unsigned but it circumscribes the power to send it back only once for reconsideration. If the parliament sends back the bill with or without changes, the president is obliged to sign it. In mid-2006, President A. P. J. Abdul Kalam sent back a controversial bill regarding the exclusion of certain offices from the scope of \\'offices of profit\\', the holding of which would disqualify a person from being a member of parliament. The combined opposition, the NDA, hailed the move. The UPA chose to send the bill back to the president without any changes and, after 17 days, Kalam gave his assent on 18 August 2006.\\n\\nSacking state governors\\nArunachal Pradesh governor Jyoti Prasad Rajkhowa, who was earlier appointed by the ruling party at the centre, was sacked by President Pranab Mukherjee after the Supreme Court struck down his unconstitutional acts.\\n\\nSee also\\nList of presidents of India\\nSpouse of the President of India\\n\\nNotes\\nReferences\\nExternal links\\nThe President of India (official site)\\nIndia portal (official site)'"
            ],
            "application/vnd.google.colaboratory.intrinsic+json": {
              "type": "string"
            }
          },
          "metadata": {},
          "execution_count": 29
        }
      ]
    },
    {
      "cell_type": "markdown",
      "source": [
        "The wikipedia API shows you response. What if the search query is `tallest buildings of 18th centure?` or `Oscars 2024`?"
      ],
      "metadata": {
        "id": "B8RZxzGALtbF"
      }
    },
    {
      "cell_type": "code",
      "source": [
        "query_1 = wiki_search('Tallest building of 18th century?')\n",
        "query_1"
      ],
      "metadata": {
        "colab": {
          "base_uri": "https://localhost:8080/",
          "height": 35
        },
        "id": "2e_-R22GLsXt",
        "outputId": "b7b8bff4-f99a-4e99-c999-bc1cfa89734d"
      },
      "execution_count": 30,
      "outputs": [
        {
          "output_type": "execute_result",
          "data": {
            "text/plain": [
              "''"
            ],
            "application/vnd.google.colaboratory.intrinsic+json": {
              "type": "string"
            }
          },
          "metadata": {},
          "execution_count": 30
        }
      ]
    },
    {
      "cell_type": "markdown",
      "source": [
        "# <font color='GREEN' >CODE FOR MCQ 3</font>\n",
        " ---"
      ],
      "metadata": {
        "id": "WknZAxXuW1Kc"
      }
    },
    {
      "cell_type": "code",
      "source": [
        "# @title TO DO 3.1 - Extract the basic search query term from the user request\n",
        "# Function to get OpenAI's response - ChatCompletion Model\n",
        "# Extract the relevant search query from the user's input using OpenAI's chatcompletion APIs\n",
        "def get_wiki_query(user_request):\n",
        "\n",
        "  MODEL = 'gpt-3.5-turbo' # Define GPT model\n",
        "\n",
        "  SYSTEM_MESSAGE = '''\n",
        "  The user will ask you a question. Your task is to extract the best search query or rephrase the query so that the search term that will yield results in wikipedia on the search query that the user wants information about.\n",
        "  You have to give output of just the main topic of the questions that can be queried on Wikipedia for further information.\n",
        "  For example, if the user asks for \"height of Narendra Modi\", you have to give the answer as 'Narendra Modi'.\n",
        "  If the user asks for \"When was Eiffel tower built?\", you have to give output as 'Eiffel Tower'.\n",
        "  Similarly, whatever the user asks, you have to extract the main point of the question as a context and give out that as answer, do not add the other atributes about the topic asked in the question.\n",
        "  If this doesn't work, extract the closest matching search query that will be able to give the required information from wikipedia.\n",
        "  '''\n",
        "# Default System Message\n",
        "\n",
        "  try:\n",
        "\n",
        "    messages = [{'role': 'system', 'content': SYSTEM_MESSAGE},\n",
        "        {'role': 'user', 'content': user_request}] # Define the list of messages\n",
        "\n",
        "    response = openai.chat.completions.create(\n",
        "        model = MODEL,\n",
        "        messages = messages\n",
        "    )# Get the ChatCompletion Response from the GPT-3.5 model\n",
        "\n",
        "    response_content = response.choices[0].message.content # Parse the response_content from the message\n",
        "\n",
        "    return response_content\n",
        "\n",
        "  # Raise exception error\n",
        "  except Exception as e:\n",
        "    print(f\"An error occurred: {e}\")\n",
        "    return None"
      ],
      "metadata": {
        "id": "HkgpOTGca2DN"
      },
      "execution_count": 31,
      "outputs": []
    },
    {
      "cell_type": "code",
      "source": [
        "# function call\n",
        "# We will call the first and second functions to search in wikipedia about the extracted basic query term\n",
        "query = get_wiki_query(user_request) # Get search term\n",
        "context = wiki_search(query) # Use the content received from previous function as context to get Wiki page info\n",
        "\n",
        "print(query)\n",
        "print(context)\n",
        "# Clue for the next part: You have to find a way to use the extracted query (from here) in the `wiki_search` function."
      ],
      "metadata": {
        "id": "TbCKl7r3qehk",
        "colab": {
          "base_uri": "https://localhost:8080/"
        },
        "outputId": "76d5319c-0ffe-405b-b6a5-24d9d6431901"
      },
      "execution_count": 32,
      "outputs": [
        {
          "output_type": "stream",
          "name": "stdout",
          "text": [
            "Laptops\n",
            "A laptop computer or notebook computer, also known as a laptop or notebook, is a small, portable personal computer (PC). Laptops typically have a clamshell form factor with a flat-panel screen on the inside of the upper lid and an alphanumeric keyboard and pointing device on the inside of the lower lid. Most of the computer's internal hardware is in the lower part, under the keyboard, although many modern laptops have a built-in webcam at the top of the screen, and some even feature a touchscreen display. In most cases, unlike tablet computers which run on mobile operating systems, laptops tend to run on desktop operating systems, which were originally developed for desktop computers.\n",
            "Laptops are used in a variety of settings, such as at work (especially on business trips), in education, for playing games, web browsing, for personal multimedia, and for general home computer use. They can run on both AC power and rechargable battery packs and can be folded shut for convenient storage and transportation, making them suitable for mobile use. Laptops combine many of the input/output components and capabilities of a desktop computer into a single unit, including a display screen (usually 11–17 in or 280–430 mm in diagonal size), small speakers, a keyboard, and a pointing device (namely compact ones such as touchpads or pointing sticks). Hardware specifications may vary significantly between different types, models, and price points.\n",
            "The word laptop, modeled after the term desktop (as in desktop computer), refers to the fact that the computer can be practically placed on the user's lap; while the word notebook refers to most laptops sharing a form factor with paper notebooks. As of 2024, in American English, the terms laptop and notebook are used interchangeably; in other dialects of English, one or the other may be preferred. The term notebook originally referred to a type of portable computer that was smaller and lighter than mainstream laptops of the time, but has since come to mean the same thing and no longer refers to any specific size.\n",
            "Design elements, form factors, and construction can also vary significantly between models depending on the intended use. Examples of specialized models of laptops include 2-in-1 laptops, with keyboards that either be detached or pivoted out of view from the display (often marketed having a \"laptop mode\"), and rugged laptops, for use in construction or military applications. Portable computers, which later developed into modern laptops, were originally considered to be a small niche market, mostly for specialized field applications, such as in the military, for accountants, or travelling sales representatives. As portable computers evolved into modern laptops, they became widely used for a variety of purposes.\n",
            "\n",
            "History\n",
            "The history of the laptop follows closely behind the development of the personal computer itself. A \"personal, portable information manipulator\" was imagined by Alan Kay at Xerox PARC in 1968, and described in his 1972 paper as the \"Dynabook\". The IBM Special Computer APL Machine Portable (SCAMP) was demonstrated in 1973. This prototype was based on the IBM PALM processor. The IBM 5100, the first commercially available portable computer, appeared in September 1975, and was based on the SCAMP prototype.\n",
            "\n",
            "As 8-bit CPU machines became widely accepted, the number of portables increased rapidly. The first \"laptop-sized notebook computer\" was the Epson HX-20, invented (patented) by Suwa Seikosha's Yukio Yokozawa in July 1980, introduced at the COMDEX computer show in Las Vegas by Japanese company Seiko Epson in 1981, and released in July 1982. It had an LCD screen, a rechargeable battery, and a calculator-size printer, in a 1.6 kg (3.5 lb) chassis, the size of an A4 notebook. It was described as a \"laptop\" and \"notebook\" computer in its patent.\n",
            "\n",
            "Both Tandy/RadioShack and Hewlett-Packard (HP) also produced portable computers of varying designs during this period. The first laptops using the flip form factor appeared in the early 1980s. The Dulmont Magnum was released in Australia in 1981–82, but was not marketed internationally until 1984–85. The US$8,150 (equivalent to $25,730 in 2023) GRiD Compass 1101, released in 1982, was used at NASA and by the military, among others. The Sharp PC-5000, the Ampere WS-1, and Gavilan SC were released between 1983 and 1985. The Toshiba T1100 won acceptance by PC experts and the mass market as a way to have PC portability.\n",
            "From 1983 onward, several new input techniques were developed and included in laptops, including the touch pad (Gavilan SC, 1983), the pointing stick (IBM ThinkPad 700, 1992), and handwriting recognition (Linus Write-Top, 1987). Some CPUs, such as the 1990 Intel i386SL, were designed to use minimum power to increase the battery life of portable computers and were supported by dynamic power management features such as Intel SpeedStep and AMD PowerNow! in some designs.\n",
            "Some laptops in the 1980s using red plasma displays could only be used when connected to AC power, and had a built in power supply.\n",
            "The development of memory cards was driven in the 1980s by the need for a floppy-disk-drive alternative, having lower power consumption, less weight, and reduced volume in laptops. The Personal Computer Memory Card International Association (PCMCIA) was an industry association created in 1989 to promote a standard for memory cards in PCs. The specification for PCMCIA type I cards, later renamed PC Cards, was first released in 1990.\n",
            "\n",
            "Displays reached 640x480 (VGA) resolution by 1988 (Compaq SLT/286), and color screens started becoming a common upgrade in 1991, with increases in resolution and screen size occurring frequently until the introduction of 17\" screen laptops in 2003. Hard drives started to be used in portables, encouraged by the introduction of 3.5\" drives in the late 1980s, and became common in laptops starting with the introduction of 2.5\" and smaller drives around 1990; capacities have typically lagged behind those of physically larger desktop drives.\n",
            "Optical disc drives became common in full-size laptops around 1997: initially, CD-ROM drives, supplanted by CD-R, then DVD, then Blu-ray drives with writing capability. Starting around 2011, the trend shifted against internal optical drives, and as of 2022, they have largely disappeared, though are still readily available as external peripherals.\n",
            "Resolutions of laptop webcams are 720p (HD), or 480p in lower-end laptops. The earliest-known laptops with 1080p (Full HD) webcams, like the Samsung 700G7C, were released in the early 2010s.\n",
            "\n",
            "Etymology\n",
            "The terms laptop and notebook trace their origins to the early 1980s, coined to describe portable computers in a size class smaller than the mainstream units (so-called \"luggables\") but larger than pocket computers. The etymologist William Safire traced the origin of laptop to some time before 1984; the earliest attestation of laptop found by the Oxford English Dictionary dates to 1983. The word is modeled after the term desktop, as in desktop computer. Notebook, meanwhile, emerged earlier in 1982 to describe Epson's HX-20 portable, whose dimensions roughly correspond to a letter-sized pad of paper.: 9  Notebooks emerged as their own separate market from laptops with the release of the NEC UltraLite in 1988.: 16 \n",
            "Notebooks and laptops continued to occupy distinct market segments into the mid-1990s, but ergonomic considerations and customer preference for larger screens soon led to notebooks converging with laptops in the late 1990s. Now, the terms laptop and notebook are synonymous, with laptop being the more common term in most English-speaking territories.\n",
            "\n",
            "Types of laptops\n",
            "Since the 1970s introduction of portable computers, their forms have changed significantly, resulting in a variety of visually and technologically differing subclasses. Excepting distinct legal trademark around terms (notably Ultrabook), hard distinctions between these classes were rare, and their usage has varied over time and between sources. Since the late 2010s, more specific terms have become less commonly used, with sizes distinguished largely by the size of the screen.\n",
            "\n",
            "Smaller and larger laptops\n",
            "There were in the past a number of marketing categories for smaller and larger laptop computers; these included \"notebook\" and \"subnotebook\" models, low cost \"netbooks\", and \"ultra-mobile PCs\" where the size class overlapped with devices like smartphone and handheld tablets, and \"Desktop replacement\" laptops for machines notably larger and heavier than typical to operate more powerful processors or graphics hardware. All of these terms have fallen out of favor as the size of mainstream laptops has gone down and their capabilities have gone up; except for niche models, laptop sizes tend to be distinguished by the size of the screen, and for more powerful models, by any specialized purpose the machine is intended for, such as a \"gaming laptop\" or a \"mobile workstation\" for professional use.\n",
            "\n",
            "Convertible, hybrid, 2-in-1\n",
            "The latest trend of technological convergence in the portable computer industry spawned a broad range of devices, which combined features of several previously separate device types. The hybrids, convertibles, and 2-in-1s emerged as crossover devices, which share traits of both tablets and laptops. All such devices have a touchscreen display designed to allow users to work in a tablet mode, using either multi-touch gestures or a stylus/digital pen.\n",
            "Convertibles are devices with the ability to conceal a hardware keyboard. Keyboards on such devices can be flipped, rotated, or slid behind the back of the chassis, thus transforming from a laptop into a tablet. Hybrids have a keyboard detachment mechanism, and due to this feature, all critical components are situated in the part with the display. 2-in-1s can have a hybrid or a convertible form, often dubbed 2-in-1 detachable and 2-in-1 convertibles respectively, but are distinguished by the ability to run a desktop OS, such as Windows 10. 2-in-1s are often marketed as laptop replacement tablets.\n",
            "2-in-1s are often very thin, around 10 millimetres (0.39 in), and light devices with a long battery life. 2-in-1s are distinguished from mainstream tablets as they feature an x86-architecture CPU (typically a low- or ultra-low-voltage model), such as the Intel Core i5, run a full-featured desktop OS like Windows 10, and have a number of typical laptop I/O ports, such as USB 3 and Mini DisplayPort.\n",
            "2-in-1s are designed to be used not only as a media consumption device but also as valid desktop or laptop replacements, due to their ability to run desktop applications, such as Adobe Photoshop. It is possible to connect multiple peripheral devices, such as a mouse, keyboard, and several external displays to a modern 2-in-1.\n",
            "Microsoft Surface Pro-series devices and Surface Book are examples of modern 2-in-1 detachable, whereas Lenovo Yoga-series computers are a variant of 2-in-1 convertibles. While the older Surface RT and Surface 2 have the same chassis design as the Surface Pro, their use of ARM processors and Windows RT do not classify them as 2-in-1s, but as hybrid tablets. Similarly, a number of hybrid laptops run a mobile operating system, such as Android. These include Asus's Transformer Pad devices, examples of hybrids with a detachable keyboard design, which do not fall in the category of 2-in-1s.\n",
            "\n",
            "Rugged laptop\n",
            "A rugged laptop is designed to reliably operate in harsh usage conditions such as strong vibrations, extreme temperatures, and wet or dusty environments. Rugged laptops are bulkier, heavier, and much more expensive than regular laptops, and thus are seldom seen in regular consumer use.\n",
            "\n",
            "Hardware\n",
            "The basic components of laptops function identically to their desktop counterparts. Traditionally they were miniaturized and adapted to mobile use, The design restrictions on power, size, and cooling of laptops limit the maximum performance of laptop parts compared to that of desktop components, although that difference has increasingly narrowed.\n",
            "In general, laptop components are not intended to be replaceable or upgradable by the end-user, except for components that can be detached; in the past, batteries and optical drives were commonly exchangeable. Some laptops feature socketed processors with sockets such as the Socket G2, but many laptops use processors that are soldered to the motherboard. Many laptops come with RAM and storage that is soldered to the motherboard and cannot be easily replaced. This restriction is one of the major differences between laptops and desktop computers, because the large \"tower\" cases used in desktop computers are designed so that new motherboards, hard disks, sound cards, RAM, and other components can be added. Memory and storage can often be upgraded with some disassembly, but with the most compact laptops, there may be no upgradeable components at all.\n",
            "The following sections summarize the differences and distinguishing features of laptop components in comparison to desktop personal computer parts.\n",
            "\n",
            "Display\n",
            "The typical laptop has a screen that, when unfolded, is upright to the user.\n",
            "\n",
            "Screen technology\n",
            "Laptop screens most commonly use liquid-crystal display (LCD) technology, although OLED panels have been used in some models. The display interfaces with the motherboard using the embedded DisplayPort protocol via the Low-voltage differential signaling (LVDS) 30 or 40 pin connector. Earlier laptops use the FPD-Link standard. The panels are mainly manufactured by AU Optronics, BOE Technology, LG Display or Samsung Display.\n",
            "\n",
            "Surface finish\n",
            "Externally, it can be a glossy or a matte (anti-glare) screen.\n",
            "\n",
            "Sizes\n",
            "In the past, there was a broader range of marketing terms (both formal and informal) to distinguish between different sizes of laptops. These included netbooks, subnotebooks, ultra-mobile PC, and desktop replacement computers; these are sometimes still used informally, although they are generally not used anymore in manufacturer marketing.\n",
            "As of 2021, mainstream consumer laptops tend to come with 11\", 13\" or 15\"-16\" screens; 14\" models are more popular among business machines. Larger and smaller models are available, but less common – there is no clear dividing line in minimum or maximum size. Machines small enough to be handheld (screens in the 6–8\" range) can be marketed either as very small laptops or \"handheld PCs\", while the distinction between the largest laptops and \"All-in-One\" desktops is whether they fold for travel.\n",
            "\n",
            "Resolution\n",
            "Having a higher resolution display allows more items to fit onscreen at a time, improving the user's ability to multitask, although, at the higher resolutions on smaller screens, the resolution may only serve to display sharper graphics and text rather than increasing the usable area. Since the introduction of the MacBook Pro with Retina display in 2012, there has been an increase in the availability of \"HiDPI\" (or high pixel density) displays; as of 2022, this is generally considered to be anything higher than 1920 pixels wide. This has increasingly converged around 4K (3840-pixel-wide) resolutions.\n",
            "External displays can be connected to most laptops, with most models supporting at least one. The use of technology such as USB4 (section Alternate Mode partner specifications). DisplayPort Alt Mode has been utilized to charge a laptop and provide display output over one USB-C Cable.\n",
            "\n",
            "Refresh rates\n",
            "Most laptop displays have a maximum refresh rate of 60 Hz. The Dell M17x and Samsung 700G7A, both released in 2011, were among the first laptops to feature a 120 Hz refresh rate, and more such laptops have appeared in the years since.\n",
            "\n",
            "Central processing unit (CPU)\n",
            "Laptop CPUs have advanced power-saving features and produce less heat than those intended for desktop use. Mainstream laptop CPUs made after 2018 have at least two processor cores, often four cores, and sometimes more, with 6 and 8 cores becoming more common.\n",
            "For the low price and mainstream performance, there is no longer a significant performance difference between laptop and desktop CPUs, but at the high end, the fastest desktop CPUs still substantially outperform the fastest laptop processors, at the expense of massively higher power consumption and heat generation; the fastest laptop processors top out at 56 watts of heat, while the fastest desktop processors top out at 150 watts (and often need water cooling).\n",
            "There has been a wide range of CPUs designed for laptops available from both Intel, AMD, and other manufacturers. On non-x86 architectures, Motorola and IBM produced the chips for the former PowerPC-based Apple laptops (iBook and PowerBook). Between around 2000 to 2014, most full-size laptops had socketed, replaceable CPUs; on thinner models, the CPU was soldered on the motherboard and was not replaceable or upgradable without replacing the motherboard. Since 2015, Intel has not offered new laptop CPU models with pins to be interchangeable, preferring ball grid array chip packages which have to be soldered; and as of 2021, only a few rare models using desktop parts.\n",
            "In the past, some laptops have used a desktop processor instead of the laptop version and have had high-performance gains at the cost of greater weight, heat, and limited battery life; this is not unknown as of 2022, but since around 2010, the practice has been restricted to small-volume gaming models. Laptop CPUs are rarely able to be overclocked; most use locked processors. Even on gaming models where unlocked processors are available, the cooling system in most laptops is often very close to its limits and there is rarely headroom for an overclocking–related operating temperature increase.\n",
            "\n",
            "Graphics processing unit (GPU)\n",
            "On most laptops, the GPU is integrated into the CPU to conserve power and space. This was introduced by Intel with the Core i-series of mobile processors in 2010, followed by similar AMD APU processors in January 2011.\n",
            "Before that, lower-end machines tended to use graphics processors integrated into the system chipset, while higher-end machines had a separate graphics processor. In the past, laptops lacking a separate graphics processor were limited in their utility for gaming and professional applications involving 3D graphics, but the capabilities of CPU-integrated graphics have converged with the low-end of dedicated graphics processors since the mid-2010s. For laptops possessing limited onboard graphics capability but sufficient I/O throughput, an external GPU (eGPU) can provide additional graphics power at the cost of physical space and portability.\n",
            "Higher-end laptops intended for gaming or professional 3D work still come with dedicated (and in some cases even dual) graphics processors on the motherboard or as an internal expansion card. Since 2011, these almost always involve switchable graphics so that when there is no demand for the higher performance dedicated graphics processor, the more power-efficient integrated graphics processor will be used. Nvidia Optimus and AMD Hybrid Graphics are examples of this sort of system of switchable graphics.\n",
            "Traditionally, the system RAM on laptops (as well as on desktop computers) was physically separate from the graphics memory used by the GPU. Apple's M series SoCs feature a unified pool of memory for both the system and the GPU; this approach can produce substantial efficiency gains for some applications but comes at the cost of eGPU support.\n",
            "\n",
            "Memory\n",
            "Since around the year 2000, most laptops have used SO-DIMM slots in which RAM is mounted, although, as of 2021, an increasing number of models use memory soldered to the motherboard, either alongside SO-DIMM slots or without any slots and soldering all memory to the motherboard. A new form factor, the CAMM module, is slated to fix the size and timing limitation. Before 2000, most laptops used proprietary memory modules if their memory was upgradable.\n",
            "In the early 2010s, high end laptops such as the 2011 Samsung 700G7A have passed the 10 GB RAM barrier, featuring 16 GB of RAM.\n",
            "When upgradeable, memory slots are sometimes accessible from the bottom of the laptop for ease of upgrading; in other cases, accessing them requires significant disassembly. Most laptops have two memory slots, although some will have only one, either for cost savings or because some amount of memory is soldered. Some high-end models have four slots; these are usually mobile engineering workstations, although a few high-end models intended for gaming do as well.\n",
            "As of 2021, 8 GB RAM is most common, with lower-end models occasionally having 4 GB. Higher-end laptops may come with 16 GB of RAM or more.\n",
            "\n",
            "Internal storage\n",
            "The earliest laptops most often used floppy disks for storage, although a few used either RAM disk or tape. By the late 1980s hard disk drives had become the standard form of storage.\n",
            "Between 1990 and 2009, almost all laptops typically had a hard disk drive (HDD) for storage; since then, solid-state drives (SSD) have gradually come to replace hard drives in all but some inexpensive consumer models. Solid-state drives are faster and more power-efficient, as well as eliminating the hazard of drive and data corruption caused by a laptop's physical impacts, as they use no mechanical parts such as a rotational platter. In many cases, they are more compact as well. Initially, in the late 2000s, SSDs were substantially more expensive than HDDs, but as of 2021 prices on smaller capacity (under 1 terabyte) drives have converged; larger capacity drives remain more expensive than comparable-sized HDDs.\n",
            "Since around 1990, where a hard drive is present it will typically be a 2.5-inch drive; some very compact laptops support even smaller 1.8-inch HDDs, and a very small number used 1\" Microdrives. Some SSDs are built to match the size/shape of a laptop hard drive, but increasingly they have been replaced with smaller mSATA or M.2 cards. SSDs using the newer and much faster NVM Express standard for connecting are only available as cards.\n",
            "As of 2022, many laptops no longer contain space for a 2.5\" drive, accepting only M.2 cards; a few of the smallest have storage soldered to the motherboard. For those that can, they can typically contain a single 2.5-inch drive, but a small number of laptops with a screen wider than 15 inches can house two drives.\n",
            "A variety of external HDDs or NAS data storage servers with support of RAID technology can be attached to virtually any laptop over such interfaces as USB, FireWire, eSATA, or Thunderbolt, or over a wired or wireless network to further increase space for the storage of data. Many laptops also incorporate a SD or microSD card slot. This enables users to download digital pictures from an SD card onto a laptop, thus enabling them to delete the SD card's contents to free up space for taking new pictures.\n",
            "\n",
            "Removable media drive\n",
            "Optical disc drives capable of playing CD-ROMs, compact discs (CD), DVDs, and in some cases, Blu-ray discs (BD), were nearly universal on full-sized models between the mid-1990s and the early 2010s. As of 2021, drives are uncommon in compact or premium laptops; they remain available in some bulkier models, but the trend towards thinner and lighter machines is gradually eliminating these drives and players – when needed they can be connected via USB instead.\n",
            "\n",
            "Speaker\n",
            "Laptops usually have built-in speakers and built-in microphones. However, integrated speakers may be small and of restricted sound quality to conserve space.\n",
            "\n",
            "Inputs\n",
            "An alphanumeric keyboard is used to enter text, data, and other commands (e.g., function keys). A touchpad (also called a trackpad), a pointing stick, or both, are used to control the position of the cursor on the screen, and an integrated keyboard is used for typing. Some touchpads have buttons separate from the touch surface, while others share the surface. A quick double-tap is typically registered as a click, and operating systems may recognize multi-finger touch gestures.\n",
            "An external keyboard and mouse may be connected using a USB port or wirelessly, via Bluetooth or similar technology. Some laptops have multitouch touchscreen displays, either available as an option or standard. Most laptops have webcams and microphones, which can be used to communicate with other people with both moving images and sound, via web conferencing or video-calling software.\n",
            "Laptops typically have USB ports and a combined headphone/microphone jack, for use with headphones, a combined headset, or an external mic. Many laptops have a card reader for reading digital camera SD cards.\n",
            "\n",
            "Input/output (I/O) ports\n",
            "On a typical laptop, there are several USB ports; if they use only the older USB connectors instead of USB-C, they will typically have an external monitor port (VGA, DVI, HDMI or Mini DisplayPort or occasionally more than one), an audio in/out port (often in form of a single socket) is common. It is possible to connect up to three external displays to a 2014-era laptop via a single Mini DisplayPort, using multi-stream transport technology.\n",
            "Apple, in a 2015 version of its MacBook, transitioned from a number of different I/O ports to a single USB-C port. This port can be used both for charging and connecting a variety of devices through the use of aftermarket adapters. Apple has since transitioned back to using a number of different ports. Google, with its updated version of Chromebook Pixel, shows a similar transition trend towards USB-C, although keeping older USB Type-A ports for a better compatibility with older devices. Although being common until the end of the 2000s decade, Ethernet network port are rarely found on modern laptops, due to widespread use of wireless networking, such as Wi-Fi. Legacy ports such as a PS/2 keyboard/mouse port, serial port, parallel port, or FireWire are provided on some models, but they are increasingly rare. On Apple's systems, and on a handful of other laptops, there are also Thunderbolt ports, but Thunderbolt 3 uses USB-C. Laptops typically have a headphone jack, so that the user can connect headphones or amplified speaker systems for listening to music or other audio.\n",
            "\n",
            "Expansion cards\n",
            "In the past, a PC Card (formerly PCMCIA) or ExpressCard slot for expansion was often present on laptops to allow adding and removing functionality, even when the laptop is powered on; these are becoming increasingly rare since the introduction of USB 3.0. Some internal subsystems such as Ethernet, Wi-Fi, or a wireless cellular modem can be implemented as replaceable internal expansion cards, usually accessible under an access cover on the bottom of the laptop. The standard for such cards is PCI Express, which comes in both mini and even smaller M.2 sizes. In newer laptops, it is not uncommon to also see Micro SATA (mSATA) functionality on PCI Express Mini or M.2 card slots allowing the use of those slots for SATA-based solid-state drives.\n",
            "Mobile PCI Express Module (MXM) is a type of expansion card that is used for graphics cards.\n",
            "\n",
            "Battery and power supply\n",
            "Since the late 1990s, laptops have typically used lithium ion or lithium polymer batteries, These replaced the older nickel metal-hydride typically used in the 1990s, and nickel–cadmium batteries used in most of the earliest laptops. A few of the oldest laptops used non-rechargeable batteries, or lead–acid batteries.\n",
            "Battery life is highly variable by model and workload and can range from one hour to nearly a day. A battery's performance gradually decreases over time; a noticeable reduction in capacity is typically evident after two to three years of regular use, depending on the charging and discharging pattern and the design of the battery. Innovations in laptops and batteries have seen situations in which the battery can provide up to 24 hours of continued operation, assuming average power consumption levels. An example is the HP EliteBook 6930p when used with its ultra-capacity battery.\n",
            "Laptops with removable batteries may support larger replacement batteries with extended capacity.\n",
            "A laptop's battery is charged using an external power supply, which is plugged into a wall outlet. The power supply outputs a DC voltage typically in the range of 7.2—24 volts. The power supply is usually external and connected to the laptop through a DC connector cable. In most cases, it can charge the battery and power the laptop simultaneously. When the battery is fully charged, the laptop continues to run on power supplied by the external power supply, avoiding battery use. If the used power supply is not strong enough to power computing components and charge the battery simultaneously, the battery may charge in a shorter period of time if the laptop is turned off or sleeping. The charger typically adds about 400 grams (0.88 lb) to the overall transporting weight of a laptop, although some models are substantially heavier or lighter. Most 2016-era laptops use a smart battery, a rechargeable battery pack with a built-in battery management system (BMS). The smart battery can internally measure voltage and current, and deduce charge level and State of Health (SoH) parameters, indicating the state of the cells.\n",
            "\n",
            "Power connectors\n",
            "Historically, DC connectors, typically cylindrical/barrel-shaped coaxial power connectors have been used in laptops. Some vendors such as Lenovo made intermittent use of a rectangular connector.\n",
            "Some connector heads feature a center pin to allow the end device to determine the power supply type by measuring the resistance between it and the connector's negative pole (outer surface). Vendors may block charging if a power supply is not recognized as the original part, which could deny the legitimate use of universal third-party chargers.\n",
            "With the advent of USB-C, portable electronics made increasing use of it for both power delivery and data transfer. Its support for 20 V (common laptop power supply voltage) and 5 A typically suffices for low to mid-end laptops, but some with higher power demands such as gaming laptops depend on dedicated DC connectors to handle currents beyond 5 A without risking overheating, some even above 10 A. Additionally, dedicated DC connectors are more durable and less prone to wear and tear from frequent reconnection, as their design is less delicate.\n",
            "\n",
            "Cooling\n",
            "Waste heat from the operation is difficult to remove in the compact internal space of a laptop. The earliest laptops used passive cooling; this gave way to heat sinks placed directly on the components to be cooled, but when these hot components are deep inside the device, a large space-wasting air duct is needed to exhaust the heat. Modern laptops instead rely on heat pipes to rapidly move waste heat towards the edges of the device, to allow for a much smaller and compact fan and heat sink cooling system. Waste heat is usually exhausted away from the device operator towards the rear or sides of the device. Multiple air intake paths are used since some intakes can be blocked, such as when the device is placed on a soft conforming surface like a chair cushion. Secondary device temperature monitoring may reduce performance or trigger an emergency shutdown if it is unable to dissipate heat, such as if the laptop were to be left running and placed inside a carrying case. Aftermarket cooling pads with external fans can be used with laptops to reduce operating temperatures.\n",
            "\n",
            "Docking station\n",
            "A docking station (sometimes referred to simply as a dock) is a laptop accessory that contains multiple ports and in some cases expansion slots or bays for fixed or removable drives. A laptop connects and disconnects to a docking station, typically through a single large proprietary connector. A docking station is an especially popular laptop accessory in a corporate computing environment, due to the possibility of a docking station transforming a laptop into a full-featured desktop replacement, yet allowing for its easy release. This ability can be advantageous to \"road warrior\" employees who have to travel frequently for work, and yet who also come into the office. If more ports are needed, or their position on a laptop is inconvenient, one can use a cheaper passive device known as a port replicator. These devices mate to the connectors on the laptop, such as through USB or FireWire.\n",
            "\n",
            "Charging trolleys\n",
            "Laptop charging trolleys, also known as laptop trolleys or laptop carts, are mobile storage containers to charge multiple laptops, netbooks, and tablet computers at the same time. The trolleys are used in schools that have replaced their traditional static computer labs suites of desktop equipped with \"tower\" computers, but do not have enough plug sockets in an individual classroom to charge all of the devices. The trolleys can be wheeled between rooms and classrooms so that all students and teachers in a particular building can access fully charged IT equipment.\n",
            "Laptop charging trolleys are also used to deter and protect against opportunistic and organized theft. Schools, especially those with open plan designs, are often prime targets for thieves who steal high-value items. Laptops, netbooks, and tablets are among the highest–value portable items in a school. Moreover, laptops can easily be concealed under clothing and stolen from buildings. Many types of laptop–charging trolleys are designed and constructed to protect against theft. They are generally made out of steel, and the laptops remain locked up while not in use. Although the trolleys can be moved between areas from one classroom to another, they can often be mounted or locked to the floor, support pillars, or walls to prevent thieves from stealing the laptops, especially overnight.\n",
            "\n",
            "Solar panels\n",
            "In some laptops, solar panels are able to generate enough solar power for the laptop to operate. The One Laptop Per Child Initiative released the OLPC XO-1 laptop which was tested and successfully operated by use of solar panels. They were designing an OLPC XO-3 laptop with these features. The OLPC XO-3 was planned to operate with 2 watts of electricity. Samsung has also designed the NC215S solar–powered notebook that was planned to be sold commercially in the U.S. market.\n",
            "\n",
            "Accessories\n",
            "A common accessory for laptops is a laptop sleeve, laptop skin, or laptop case, which provides a degree of protection from scratches. Sleeves, which are distinguished by being relatively thin and flexible, are most commonly made of neoprene, with sturdier ones made of low-resilience polyurethane. Some laptop sleeves are wrapped in ballistic nylon to provide some measure of waterproofing. Bulkier and sturdier cases can be made of metal with polyurethane padding inside and may have locks for added security. Metal, padded cases also offer protection against impacts and drops. Another common accessory is a laptop cooler, a device that helps lower the internal temperature of the laptop either actively or passively. A common active method involves using electric fans to draw heat away from the laptop, while a passive method might involve propping the laptop up on some type of pad so it can receive more airflow. Some stores sell laptop pads that enable a reclining person on a bed to use a laptop.\n",
            "\n",
            "Modularity\n",
            "Some of the components of earlier models of laptops can easily be replaced without opening completely its bottom part, such as the keyboard, battery, hard disk, memory modules, and CPU cooling fan.\n",
            "Some of the components of recent models of laptops reside inside. Replacing most of its components, such as the keyboard, battery, hard disk, memory modules, CPU cooling fan, etc., requires the removal of either the top or bottom part, the removal of the motherboard, and returning them.\n",
            "In some types, solder and glue are used to mount components such as RAM, storage, and batteries, making repairs additionally difficult.\n",
            "\n",
            "Obsolete features\n",
            "Features that certain early models of laptops used to have that are not available in more recent models include:\n",
            "\n",
            "Reset (\"cold restart\") button in a hole (needed a thin metal tool to press)\n",
            "Instant power off button in a hole (needed a thin metal tool to press)\n",
            "Integrated charger or power adapter inside the laptop\n",
            "Dedicated Media buttons (Internet, Volume, Play, Pause, Next, Previous)\n",
            "Floppy disk drive\n",
            "Serial port\n",
            "Parallel port\n",
            "Modem\n",
            "IEEE 1394 port\n",
            "Docking port\n",
            "Shared PS/2 input device port\n",
            "IrDA\n",
            "S-video port\n",
            "S/PDIF audio port\n",
            "PC Card / PCMCIA slot\n",
            "ExpressCard slot\n",
            "CD/DVD Drives (starting with 2013 models)\n",
            "VGA port (starting with 2013 models)\n",
            "\n",
            "Characteristics\n",
            "Advantages over desktop computers\n",
            "Portability - Laptops are highly portable compared to desktop PCs. Physical portability allows a laptop to be used in many places—not only at home and the office but also during commuting and flights, in coffee shops, in lecture halls and libraries, at clients' locations or a meeting room, etc. Within a home, portability enables laptop users to move their devices from room to room. Portability offers several distinct advantages:\n",
            "Productivity: Using a laptop in places where a desktop PC cannot be used can help employees and students to increase their productivity on work or school tasks, such as an office worker reading their work e-mails during an hour-long commute by train, or a student doing their homework at the university coffee shop during a break between lectures, for example.\n",
            "Up-to-date information: Using a single laptop prevents fragmentation of files across multiple PCs as the files exist in a single location and are always up-to-date.\n",
            "Connectivity: A key advantage of laptops is that they almost always have integrated connectivity features such as Wi-Fi and Bluetooth, and sometimes connection to cellular networks either through native integration or use of a hotspot.  Wi-Fi networks and laptop programs are especially widespread at university campuses.\n",
            "Other advantages of laptops:\n",
            "\n",
            "Size: Laptops are smaller than desktop PCs. This is beneficial when space is at a premium, for example in small apartments and student dorms. When not in use, a laptop can be closed and put away in a desk drawer.\n",
            "Low power consumption: Laptops are several times more power-efficient than desktops. A typical laptop uses 10–100 W, compared to 200–800W for desktops. This could be particularly beneficial for large businesses, which run hundreds of personal computers thus economies of scale, and homes where there is a computer running 24/7 (such as a home media server, print server, etc.).\n",
            "Quiet: Laptops are typically much quieter than desktops, due both to the components (often silent solid-state drives replacing hard drives) and to less heat production leading to the use of fewer, sometimes no cooling fans. The latter has given rise to laptops that have no moving parts, resulting in complete silence during use.\n",
            "Battery: a charged laptop can continue to be used in case of a power outage and is not affected by short power interruptions and blackouts, an issue that is present with desktop PCs.\n",
            "All-in-One: designed to be portable, most modern laptops have all components integrated into the chassis. For desktops (excluding all-in-ones) this is usually divided into the desktop \"tower\" (the unit with the CPU, hard drive, power supply, etc.), keyboard, mouse, display screen, and optional peripherals such as speakers.\n",
            "\n",
            "Disadvantages\n",
            "Compared to desktop PCs, laptops have disadvantages in the following areas:\n",
            "\n",
            "Performance\n",
            "The performance of laptops is often worse than comparably priced desktops. The upper limits of performance of laptops remain lower than desktops, due to mostly practical reasons, such as decreased battery life, increased size and heat, etc.\n",
            "Upgradeability\n",
            "The upgradeability of laptops is limited compared to tower desktops, due to technical and economic reasons. In general, hard drives and memory can be upgraded easily. Due to the integrated nature of laptops, however, the motherboard, CPU, and graphics, are seldom officially upgradeable. Some efforts towards industry standard parts and layouts have been attempted, such as Common Building Block, but the industry remains largely proprietary and fragmented. There is no industry-wide standard form factor for laptops; Moreover, starting with 2013 models, laptops have become increasingly integrated (soldered) with the motherboard for most of its components (CPU, SSD, RAM, etc.) to reduce size and upgradeability prospects.\n",
            "Durability\n",
            " Laptops are less durable than desktops/PCs. However, the durability of the laptop depends on the user if proper maintenance is done then the laptop can work longer.Because of their portability, laptops are subject to more wear and physical damage than desktops, additionally hindered by their integrated nature. A liquid spill onto the keyboard, while a minor issue with a desktop system, can damage the internals of a laptop and destroy the computer, resulting in a costly repair or entire replacement of laptops. One study found that a laptop is three times more likely to break during the first year of use than a desktop. To maintain a laptop, it is recommended to clean it every three months for dirt, debris, dust, and food particles. Most cleaning kits consist of a lint-free or microfiber cloth for the screen and keyboard, compressed air for getting dust out of the cooling fan, and a cleaning solution. Harsh chemicals such as bleach should not be used to clean a laptop, as they can damage it.\n",
            "Heating and cooling\n",
            "Laptops rely on extremely compact cooling systems involving a fan and heat sink that can fail from blockage caused by accumulated airborne dust and debris. Most laptops do not have any type of removable dust collection filter over the air intake for these cooling systems, resulting in a system that gradually conducts more heat and noise as the years pass. In some cases, the laptop starts to overheat even at idle load levels. This dust is usually stuck inside where the fan and heat sink meet, where it can not be removed by a casual cleaning and vacuuming. Most of the time, compressed air can dislodge the dust and debris but may not entirely remove it. After the device is turned on, the loose debris is reaccumulated into the cooling system by the fans. Complete disassembly is usually required to clean the laptop entirely. However, preventative maintenance such as regular cleaning of the heat sink via compressed air can prevent dust build-up on the heat sink. Many laptops are difficult to disassemble by the average user and contain components that are sensitive to electrostatic discharge (ESD).\n",
            "Battery life\n",
            "Battery life is limited because the capacity drops with time, eventually warranting replacement after as little as 2–3 years. A new battery typically stores enough energy to run the laptop for five to six hours or more, depending on usage and the battery size. The battery is often easily replaceable and a higher capacity model may be obtained for longer charging and discharging time. Some laptops do not have the usual removable battery and have to be brought to the service center of their manufacturer or a third-party laptop service center to have their battery replaced. Replacement batteries can also be expensive, depending on the availability of the parts. Desktop PCs do not face similar problems since they are reliant on long lasting power supplies.\n",
            "Security and privacy\n",
            "Because they are valuable, commonly used, portable, and easy to hide in a backpack or other type of bag, laptops are often stolen. Every day, over 1,600 laptops go missing from U.S. airports. The cost of stolen business or personal data, and of the resulting problems (identity theft, credit card fraud, breach of privacy), can be many times the value of the stolen laptop itself. Consequently, the physical protection of laptops and the safeguarding of data contained in them are both of great importance. Some laptops, primarily professional and educational devices, have a Kensington security slot, which can be used to tether them with a security cable and lock. In addition, modern operating systems have features such as Activation Lock or similar that prevents the use of the device without credentials. As of 2015, some laptops also have additional security elements added, including biometric security components such as Windows Hello or Touch ID.Software such as GadgetTrak and  Find My Mac have been engineered to help people locate and recover their stolen laptops in the event of theft. Setting one's laptop with a password on its firmware (protection against going to firmware setup or booting), internal HDD/SSD (protection against accessing it and loading an operating system on it afterward), and every user account of the operating system are additional security measures that a user should do. Fewer than 5% of lost or stolen laptops are recovered by the companies that own them, however, that number may decrease due to a variety of companies and software solutions specializing in laptop recovery. In the 2010s, the common availability of webcams on laptops raised privacy concerns. In Robbins v. Lower Merion School District (Eastern District of Pennsylvania 2010), school-issued laptops loaded with special software enabled staff from two high schools to take secret webcam shots of students at home, via their students' laptops.\n",
            "\n",
            "Ergonomics and health effects\n",
            "Wrists\n",
            "Prolonged use of laptops can cause repetitive strain injury because of their small, flat keyboard and trackpad pointing devices. Usage of separate, external ergonomic keyboards and pointing devices is recommended to prevent injury when working for long periods of time; they can be connected to a laptop easily by USB, Bluetooth or via a docking station. Some health standards require ergonomic keyboards at workplaces.\n",
            "Neck and spine\n",
            "A laptop's integrated screen often requires users to lean over for a better view, which can cause neck or spinal injuries. A larger and higher-quality external screen can be connected to almost any laptop to alleviate this and to provide additional screen space for more productive work. Another solution is to use a computer stand.\n",
            "Possible effect on fertility\n",
            "A study by State University of New York researchers found that heat generated from laptops can increase the temperature of the lap of male users when balancing the computer on their lap, potentially putting sperm count at risk. The study, which included roughly two dozen men between the ages of 21 and 35, found that the sitting position required to balance a laptop can increase scrotum temperature by as much as 2.1 °C (4 °F). However, further research is needed to determine whether this directly affects male sterility. A later 2010 study of 29 males published in Fertility and Sterility found that men who kept their laptops on their laps experienced scrotal hyperthermia (overheating) in which their scrotal temperatures increased by up to 2.0 °C (4 °F). The resulting heat increase, which could not be offset by a laptop cushion, may increase male infertility. A common practical solution to this problem is to place the laptop on a table or desk or to use a book or pillow between the body and the laptop. Another solution is to obtain a cooling unit for the laptop. These are usually USB powered and consist of a hard thin plastic case housing one, two, or three cooling fans – with the entire assembly designed to sit under the laptop in question – which results in the laptop remaining cool to the touch, and greatly reduces laptop heat buildup.\n",
            "Thighs\n",
            "Heat generated from using a laptop on the lap can also cause skin discoloration on the thighs known as \"toasted skin syndrome\".\n",
            "\n",
            "Sales\n",
            "Manufacturers\n",
            "There are many laptop brands and manufacturers. Several major brands that offer notebooks in various classes are listed in the adjacent box. The major brands usually offer good service and support, including well-executed documentation and driver downloads that remain available for many years after a particular laptop model is no longer produced. Capitalizing on service, support, and brand image, laptops from major brands are more expensive than laptops from smaller brands and ODMs. Some brands specialize in a particular class of laptops, such as gaming laptops (Alienware), high-performance laptops (HP Envy), netbooks (EeePC) and laptops for children (OLPC).\n",
            "Many brands, including the major ones, do not design and do not manufacture their laptops. Instead, a small number of Original Design Manufacturers (ODMs) design new models of laptops, and the brands choose the models to be included in their lineup. In 2006, 7 major ODMs manufactured 7 of every 10 laptops in the world, with the largest one (Quanta Computer) having 30% of the world market share. Therefore, identical models are available both from a major label and from a low-profile ODM in-house brand.\n",
            "\n",
            "Historic market share\n",
            "As of 1992–1993, Toshiba ranked as the global leading vendor in the notebook computer market. In the United States meanwhile, Apple led the market followed by Compaq. In the year 1993, global revenue for the laptop market was led by Compaq, followed by Toshiba, Apple, NEC and IBM, altogether accounting for over 53% of global revenue.\n",
            "In the United States, the top three vendors for notebooks in market share as of 1996 were: Toshiba, followed by Compaq, and followed by IBM.\n",
            "As of 1999, Toshiba ranked first in worldwide laptop sales followed by IBM, Compaq, and Dell. Toshiba led the market with a share of 18.6%.\n",
            "In the first quarter of 2002 in the United States market, Dell controlled 25.2% in the notebook space, well ahead of Toshiba (13.6%) and Compaq (11.7%), the latter of which had been acquired by Hewlett-Packard (HP). At fourth and fifth place were Sony and IBM.\n",
            "In Europe, the Middle East and Africa (EMEA) territories, Acer was the largest vendor of laptops, in 2004–2005, having overtaken HP and IBM there.\n",
            "In the year 2005 according to IDC, Dell was the top global vendor of notebooks with a market share of 17.29%, followed by: HP (15.7%), Toshiba (10.96%), Acer (10.15%) and Lenovo (8.23%); Lenovo had acquired IBM that same year. The remaining of the top ten was made up of Fujitsu Siemens, Sony, NEC, Apple and Asus.\n",
            "In the first quarter of 2010, the largest vendor of portable computers, including netbooks, was either HP or Acer, depending on data source. Both had shipped approximately 9 million units each. Dell, Toshiba, Asus and Lenovo followed, each with approximate sales of 5 to 6 million each. Apple, Samsung and Sony sold under 2 million each.\n",
            "As of the third quarter of 2020, HP was cited as the leading vendor for notebook computers closely followed by Lenovo, both with a share of 23.6% each. They were followed by Dell (13.7%), Apple (9.7%) and Acer (7.9%).\n",
            "\n",
            "Adoption by users\n",
            "Battery-powered portable computers had just 2% worldwide market share in 1986. However, laptops have become increasingly popular, both for business and personal use. The third quarter of 2008 was the first time when worldwide notebook PC shipments exceeded desktops, with 38.6 million units versus 38.5 million units. In 2023, it was estimated that 166 million laptops were sold, and in the first quarter of 2024, around 64% of personal computers sold were laptops or detachable tablets. Due to the advent of tablets and affordable laptops, many computer users now have laptops due to the convenience offered by the device.\n",
            "\n",
            "Price\n",
            "Before 2008, laptops were very expensive. In May 2005, the average notebook sold for $1,131 while desktops sold for an average of $696. Around 2008, however, prices of laptops decreased substantially due to low-cost netbooks, drawing an average US$689 at U.S. retail stores in August 2008. Starting with the 2010s, laptops have decreased substantially in price at the low end due to inexpensive and low power Arm processors, less demanding operating systems such as ChromeOS, and SoC's. As of 2023, a new laptop can be obtained for $299.\n",
            "\n",
            "Disposal\n",
            "The list of materials that go into a laptop computer is long, and many of the substances used, such as beryllium, lead, chromium, and mercury compounds, are toxic or carcinogenic to humans. Although these toxins are relatively harmless when the laptop is in use, concerns that discarded laptops cause a serious health and environmental risks when improperly discarded have arisen. The Waste Electrical and Electronic Equipment Directive (WEEE Directive) in Europe specified that all laptop computers must be recycled by law. Similarly, the U.S. Environmental Protection Agency (EPA) has outlawed landfill dumping or the incinerating of discarded laptop computers.\n",
            "Most laptop computers begin the recycling process with a method known as Demanufacturing, which involves the physical separation of the components of the laptop. These components are then either grouped into materials (e.g. plastic, metal and glass) for recycling or more complex items that require more advanced materials separation (e.g.) circuit boards, hard drives and batteries.\n",
            "Corporate laptop recycling can require an additional process known as data destruction. The data destruction process ensures that all information or data that has been stored on a laptop hard drive can never be retrieved again. Below is an overview of some of the data protection and environmental laws and regulations applicable for laptop recycling data destruction:\n",
            "\n",
            "Extreme use\n",
            "The ruggedized Grid Compass computer was used since the early days of the Space Shuttle program. The first commercial laptop used in space was a Macintosh portable in 1990 on Space Shuttle mission STS-41 and again in 1991 aboard STS-43. Apple and other laptop computers continue to be flown aboard crewed spaceflights, though the only long-duration flight certified computer for the International Space Station is the ThinkPad. As of 2011, over 100 ThinkPads were aboard the ISS. Laptops used aboard the International Space Station and other spaceflights are generally the same ones that can be purchased by the general public but needed modifications are made to allow them to be used safely and effectively in a weightless environment such as updating the cooling systems to function without relying on hot air rising and accommodation for the lower cabin air pressure. Laptops operating in harsh usage environments and conditions, such as strong vibrations, extreme temperatures, and wet or dusty conditions differ from those used in space in that they are custom designed for the task and do not use commercial off-the-shelf hardware.\n",
            "\n",
            "See also\n",
            "References\n",
            "\n",
            " Media related to Laptops at Wikimedia Commons\n"
          ]
        }
      ]
    },
    {
      "cell_type": "code",
      "source": [
        "# @title TO DO 3.2 - Search the basic query obtained from user request in Wikipedia\n",
        "# Function to get OpenAI's response - ChatCompletion Model\n",
        "# Search for the user's query from Wikipedia content\n",
        "# TIP: refer to the `wiki_search` function above. You have to use that content as context for the next function.\n",
        "\n",
        "def search_wiki_information(user_request, content = context):\n",
        "\n",
        "  MODEL = 'gpt-3.5-turbo' # Define GPT model\n",
        "\n",
        "  SYSTEM_MESSAGE = '''You're a helpful assistant that responds to the user query\n",
        "    based on given context. Strictly adhere to the context only, do not answer from other sources. If you do not know any information, just say give the message \"Information not found\".\n",
        "    context : {}'''.format(content) # Default System Message\n",
        "\n",
        "  # Now the model has to extract relevant info from the context...\n",
        "\n",
        "  try:\n",
        "      messages = [\n",
        "        {'role': 'system', 'content': SYSTEM_MESSAGE},\n",
        "        {'role': 'user', 'content': user_request}\n",
        "    ] # Define the list of messages\n",
        "\n",
        "      response = openai.chat.completions.create(\n",
        "        model = MODEL,\n",
        "        messages = messages\n",
        "    )# Get the ChatCompletion Response from the GPT-3.5 model\n",
        "\n",
        "      response_content = response.choices[0].message.content\n",
        "\n",
        "      return response_content\n",
        "\n",
        "  # Raise exception error\n",
        "  except Exception as e:\n",
        "      print(f\"An error occurred: {e}\")\n",
        "      return None"
      ],
      "metadata": {
        "id": "ZMOjFwO0bfQu"
      },
      "execution_count": 33,
      "outputs": []
    },
    {
      "cell_type": "code",
      "source": [
        "search_wiki_information(user_request)"
      ],
      "metadata": {
        "colab": {
          "base_uri": "https://localhost:8080/",
          "height": 35
        },
        "id": "tZ9p4RwPjofV",
        "outputId": "396d9fd7-39a4-440a-f34d-438e88c2ba8c"
      },
      "execution_count": 34,
      "outputs": [
        {
          "output_type": "execute_result",
          "data": {
            "text/plain": [
              "'Information not found.'"
            ],
            "application/vnd.google.colaboratory.intrinsic+json": {
              "type": "string"
            }
          },
          "metadata": {},
          "execution_count": 34
        }
      ]
    },
    {
      "cell_type": "code",
      "source": [
        "user_request1 = '''What is height of the tallest building built in the 18th century?'''\n",
        "query = get_wiki_query(user_request1) # Get search term\n",
        "context = wiki_search(query) # Use the content received from previous function as context to get Wiki page info\n",
        "\n",
        "# print(query)\n",
        "# print(context)\n",
        "search_wiki_information(user_request1, context)"
      ],
      "metadata": {
        "colab": {
          "base_uri": "https://localhost:8080/",
          "height": 35
        },
        "id": "kUOTbOw9jzfD",
        "outputId": "7dd01ed4-1778-4fa0-d067-7406b8555913"
      },
      "execution_count": 38,
      "outputs": [
        {
          "output_type": "execute_result",
          "data": {
            "text/plain": [
              "'Information not found.'"
            ],
            "application/vnd.google.colaboratory.intrinsic+json": {
              "type": "string"
            }
          },
          "metadata": {},
          "execution_count": 38
        }
      ]
    },
    {
      "cell_type": "code",
      "source": [
        "user_request2 = '''Which country is hosting the next FIFA world cup?'''\n",
        "query = get_wiki_query(user_request2) # Get search term\n",
        "context = wiki_search(query) # Use the content received from previous function as context to get Wiki page info\n",
        "\n",
        "# print(query)\n",
        "# print(context)\n",
        "search_wiki_information(user_request2, context)\n"
      ],
      "metadata": {
        "colab": {
          "base_uri": "https://localhost:8080/",
          "height": 53
        },
        "id": "WT7f1TgskSAi",
        "outputId": "dcd133ca-0936-4750-ad10-aee535dc1fd8"
      },
      "execution_count": 36,
      "outputs": [
        {
          "output_type": "execute_result",
          "data": {
            "text/plain": [
              "'The next FIFA World Cup is scheduled to be hosted by the United States, Mexico, and Canada jointly. This tournament will take place in 2026, marking the first time that the World Cup will be shared by three host nations.'"
            ],
            "application/vnd.google.colaboratory.intrinsic+json": {
              "type": "string"
            }
          },
          "metadata": {},
          "execution_count": 36
        }
      ]
    },
    {
      "cell_type": "code",
      "source": [
        "user_request3 = 'Which movie won the best movie award at the Oscars 2024?'\n",
        "query = get_wiki_query(user_request3) # Get search term\n",
        "context = wiki_search(query) # Use the content received from previous function as context to get Wiki page info\n",
        "\n",
        "# print(query)\n",
        "# print(context)\n",
        "search_wiki_information(user_request3, context)\n"
      ],
      "metadata": {
        "colab": {
          "base_uri": "https://localhost:8080/",
          "height": 35
        },
        "id": "zR4bNTWQkw4v",
        "outputId": "798ced90-5de3-46fa-9a8d-66abae8bd912"
      },
      "execution_count": 39,
      "outputs": [
        {
          "output_type": "execute_result",
          "data": {
            "text/plain": [
              "'The movie \"Oppenheimer\" won the Best Picture award at the Oscars 2024.'"
            ],
            "application/vnd.google.colaboratory.intrinsic+json": {
              "type": "string"
            }
          },
          "metadata": {},
          "execution_count": 39
        }
      ]
    },
    {
      "cell_type": "code",
      "source": [
        "# @title TO DO 3.3 - Search the following queries with your model\n",
        "\n",
        "user_request1 = 'What is height of the tallest building built in the 18the century?'\n",
        "user_request2 = 'Which country is hosting the next FIFA world cup?'\n",
        "user_request3 = 'Which movie won the best movie award at the Oscars 2024?'\n",
        "\n",
        "# Give the above queries to your function and check the output.\n",
        "\n",
        "# Call your function below\n"
      ],
      "metadata": {
        "id": "3qUc2M3C3NDd"
      },
      "execution_count": null,
      "outputs": []
    },
    {
      "cell_type": "code",
      "source": [],
      "metadata": {
        "id": "5XlEAaiEkQRW"
      },
      "execution_count": null,
      "outputs": []
    },
    {
      "cell_type": "markdown",
      "source": [
        "How did your model perform? Was it able to answer all the three queries?\n",
        "\n",
        "* Did you get the host of FIFA world cup 2026?\n",
        "\n",
        "* Did you get the Oscars winner of this year?\n",
        "\n",
        "* Were you also able to find out the tallest building built in 18th century?\n",
        "\n",
        "Now head over to [Wikipedia](https://wikipedia.org), and try to search for the tallest building built in the 18th century. What did you get?\n",
        "\n",
        "Your function sending the query 'tallest building built in 18th century' will not give any page content as output. Why are you getting the answer then? <br>\n",
        "That is the GPT answering your question based on its pre-training dataset. Can you try to modify the prompt in a way such that you are able to stop this from happening?"
      ],
      "metadata": {
        "id": "ylhRqm5SG3Cg"
      }
    },
    {
      "cell_type": "markdown",
      "source": [
        "Another enriching exercise for you would be to try and find some more cases and queries where your model fails to provide any output, or fails to work as expected."
      ],
      "metadata": {
        "id": "QwyPXP0tIbdw"
      }
    },
    {
      "cell_type": "markdown",
      "source": [
        "The solution notebook for the above questions can be [accessed here](https://colab.research.google.com/drive/1voiftM789UNVAO_vK5bwjIzsEA-lAsX4?usp=sharing#scrollTo=mEUFnsJzBtlt)."
      ],
      "metadata": {
        "id": "24tvFzS-SmfU"
      }
    },
    {
      "cell_type": "code",
      "source": [],
      "metadata": {
        "id": "jlPgdqo2Ss3y"
      },
      "execution_count": null,
      "outputs": []
    }
  ]
}